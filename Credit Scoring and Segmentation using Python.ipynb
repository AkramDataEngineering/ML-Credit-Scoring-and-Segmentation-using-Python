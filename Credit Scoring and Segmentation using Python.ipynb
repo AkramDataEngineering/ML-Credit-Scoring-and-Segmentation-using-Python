{
 "cells": [
  {
   "cell_type": "markdown",
   "id": "baf92e16-a322-410b-8d71-e269c8169150",
   "metadata": {},
   "source": [
    "## Credit Scoring and Segmentation using Python"
   ]
  },
  {
   "cell_type": "markdown",
   "id": "90cd4fab-a563-4e68-ae53-46296e07ea88",
   "metadata": {},
   "source": [
    "Credit scoring and segmentation refer to the process of evaluating the creditworthiness of individuals or businesses and dividing them into distinct groups based on their credit profiles. It aims to assess the likelihood of borrowers repaying their debts and helps financial institutions make informed decisions regarding lending and managing credit risk."
   ]
  },
  {
   "cell_type": "markdown",
   "id": "4baa72f8-418b-4eb7-a040-1cf454484deb",
   "metadata": {},
   "source": [
    "## Credit Scoring and Segmentation: Overview"
   ]
  },
  {
   "cell_type": "markdown",
   "id": "2ad86d92-88df-401b-ac66-7b89e0a2d8a2",
   "metadata": {},
   "source": [
    "The process of calculating credit scores and segmenting customers based on their credit scores involves several steps. Firstly, relevant data about borrowers, such as payment history, credit utilization, credit history, and credit mix, is collected and organized. Then, using complex algorithms and statistical models, the collected data is analyzed to generate credit scores for each borrower."
   ]
  },
  {
   "cell_type": "markdown",
   "id": "03ecdffd-cb91-40ed-aaa4-038614d34740",
   "metadata": {},
   "source": [
    "These credit scores are numerical representations of the borrower’s creditworthiness and indicate the likelihood of default or timely repayment. Once the credit scores are calculated, customers are segmented into different risk categories or credit tiers based on predefined thresholds."
   ]
  },
  {
   "cell_type": "markdown",
   "id": "b3ede533-8c1b-4ad2-b472-0cc7b857dccd",
   "metadata": {},
   "source": [
    "This segmentation helps financial institutions assess the credit risk associated with each customer and make informed decisions regarding loan approvals, interest rates, and credit limits. By categorizing customers into segments, financial institutions can better manage their lending portfolios and effectively mitigate the risk of potential defaults."
   ]
  },
  {
   "cell_type": "markdown",
   "id": "7a8827f9-ce33-4185-b138-2bc56ce02421",
   "metadata": {},
   "source": [
    "So to get started with the task of credit scoring and segmentation, we first need to have appropriate data. I found an ideal dataset for this task."
   ]
  },
  {
   "cell_type": "markdown",
   "id": "1c73a49c-c4f0-435d-a40e-973ea604709e",
   "metadata": {},
   "source": [
    "## Credit Scoring and Segmentation using Python"
   ]
  },
  {
   "cell_type": "markdown",
   "id": "23b56d6e-69e9-4eab-9a00-b1a4f4913593",
   "metadata": {},
   "source": [
    "Now let’s get started with the task of Credit Scoring and Segmentation by importing the necessary Python libraries and the dataset:"
   ]
  },
  {
   "cell_type": "code",
   "execution_count": 1,
   "id": "fdbe155b-5c5d-4a58-aff3-9cb60ad7c858",
   "metadata": {},
   "outputs": [
    {
     "data": {
      "text/html": [
       "<div>\n",
       "<style scoped>\n",
       "    .dataframe tbody tr th:only-of-type {\n",
       "        vertical-align: middle;\n",
       "    }\n",
       "\n",
       "    .dataframe tbody tr th {\n",
       "        vertical-align: top;\n",
       "    }\n",
       "\n",
       "    .dataframe thead th {\n",
       "        text-align: right;\n",
       "    }\n",
       "</style>\n",
       "<table border=\"1\" class=\"dataframe\">\n",
       "  <thead>\n",
       "    <tr style=\"text-align: right;\">\n",
       "      <th></th>\n",
       "      <th>Age</th>\n",
       "      <th>Gender</th>\n",
       "      <th>Marital Status</th>\n",
       "      <th>Education Level</th>\n",
       "      <th>Employment Status</th>\n",
       "      <th>Credit Utilization Ratio</th>\n",
       "      <th>Payment History</th>\n",
       "      <th>Number of Credit Accounts</th>\n",
       "      <th>Loan Amount</th>\n",
       "      <th>Interest Rate</th>\n",
       "      <th>Loan Term</th>\n",
       "      <th>Type of Loan</th>\n",
       "    </tr>\n",
       "  </thead>\n",
       "  <tbody>\n",
       "    <tr>\n",
       "      <th>0</th>\n",
       "      <td>60</td>\n",
       "      <td>Male</td>\n",
       "      <td>Married</td>\n",
       "      <td>Master</td>\n",
       "      <td>Employed</td>\n",
       "      <td>0.22</td>\n",
       "      <td>2685.0</td>\n",
       "      <td>2</td>\n",
       "      <td>4675000</td>\n",
       "      <td>2.65</td>\n",
       "      <td>48</td>\n",
       "      <td>Personal Loan</td>\n",
       "    </tr>\n",
       "    <tr>\n",
       "      <th>1</th>\n",
       "      <td>25</td>\n",
       "      <td>Male</td>\n",
       "      <td>Married</td>\n",
       "      <td>High School</td>\n",
       "      <td>Unemployed</td>\n",
       "      <td>0.20</td>\n",
       "      <td>2371.0</td>\n",
       "      <td>9</td>\n",
       "      <td>3619000</td>\n",
       "      <td>5.19</td>\n",
       "      <td>60</td>\n",
       "      <td>Auto Loan</td>\n",
       "    </tr>\n",
       "    <tr>\n",
       "      <th>2</th>\n",
       "      <td>30</td>\n",
       "      <td>Female</td>\n",
       "      <td>Single</td>\n",
       "      <td>Master</td>\n",
       "      <td>Employed</td>\n",
       "      <td>0.22</td>\n",
       "      <td>2771.0</td>\n",
       "      <td>6</td>\n",
       "      <td>957000</td>\n",
       "      <td>2.76</td>\n",
       "      <td>12</td>\n",
       "      <td>Auto Loan</td>\n",
       "    </tr>\n",
       "    <tr>\n",
       "      <th>3</th>\n",
       "      <td>58</td>\n",
       "      <td>Female</td>\n",
       "      <td>Married</td>\n",
       "      <td>PhD</td>\n",
       "      <td>Unemployed</td>\n",
       "      <td>0.12</td>\n",
       "      <td>1371.0</td>\n",
       "      <td>2</td>\n",
       "      <td>4731000</td>\n",
       "      <td>6.57</td>\n",
       "      <td>60</td>\n",
       "      <td>Auto Loan</td>\n",
       "    </tr>\n",
       "    <tr>\n",
       "      <th>4</th>\n",
       "      <td>32</td>\n",
       "      <td>Male</td>\n",
       "      <td>Married</td>\n",
       "      <td>Bachelor</td>\n",
       "      <td>Self-Employed</td>\n",
       "      <td>0.99</td>\n",
       "      <td>828.0</td>\n",
       "      <td>2</td>\n",
       "      <td>3289000</td>\n",
       "      <td>6.28</td>\n",
       "      <td>36</td>\n",
       "      <td>Personal Loan</td>\n",
       "    </tr>\n",
       "  </tbody>\n",
       "</table>\n",
       "</div>"
      ],
      "text/plain": [
       "   Age  Gender Marital Status Education Level Employment Status  \\\n",
       "0   60    Male        Married          Master          Employed   \n",
       "1   25    Male        Married     High School        Unemployed   \n",
       "2   30  Female         Single          Master          Employed   \n",
       "3   58  Female        Married             PhD        Unemployed   \n",
       "4   32    Male        Married        Bachelor     Self-Employed   \n",
       "\n",
       "   Credit Utilization Ratio  Payment History  Number of Credit Accounts  \\\n",
       "0                      0.22           2685.0                          2   \n",
       "1                      0.20           2371.0                          9   \n",
       "2                      0.22           2771.0                          6   \n",
       "3                      0.12           1371.0                          2   \n",
       "4                      0.99            828.0                          2   \n",
       "\n",
       "   Loan Amount  Interest Rate  Loan Term   Type of Loan  \n",
       "0      4675000           2.65         48  Personal Loan  \n",
       "1      3619000           5.19         60      Auto Loan  \n",
       "2       957000           2.76         12      Auto Loan  \n",
       "3      4731000           6.57         60      Auto Loan  \n",
       "4      3289000           6.28         36  Personal Loan  "
      ]
     },
     "execution_count": 1,
     "metadata": {},
     "output_type": "execute_result"
    }
   ],
   "source": [
    "import pandas as pd\n",
    "import plotly.graph_objects as go\n",
    "import plotly.express as px\n",
    "import plotly.io as pio\n",
    "pio.templates.default = \"plotly_white\"\n",
    "\n",
    "cred = pd.read_csv(\"credit_scoring.csv\")\n",
    "cred.head()"
   ]
  },
  {
   "cell_type": "markdown",
   "id": "b138a263-1550-4e0f-835f-b166f8160e48",
   "metadata": {},
   "source": [
    "Below is the description of all the features in the data:"
   ]
  },
  {
   "cell_type": "markdown",
   "id": "96cb9c84-8e12-4a9b-aa73-99f8f3bd1ed8",
   "metadata": {},
   "source": [
    "* **Age:** This feature represents the age of the individual.\n",
    "* **Gender:** This feature captures the gender of the individual.\n",
    "* **Marital Status:** This feature denotes the marital status of the individual.\n",
    "* **Education Level:** This feature represents the highest level of education attained by the individual.\n",
    "* **Employment Status:** This feature indicates the current employment status of the individual.\n",
    "* **Credit Utilization Ratio:** This feature reflects the ratio of credit used by the individual compared to their total available credit limit.\n",
    "* **Payment History:** It represents the monthly net payment behaviour of each customer, taking into account factors such as on-time payments, late payments, missed payments, and defaults.\n",
    "* **Number of Credit Accounts:** It represents the count of active credit accounts the person holds.\n",
    "* **Loan Amount:** It indicates the monetary value of the loan.\n",
    "* **Interest Rate:** This feature represents the interest rate associated with the loan.\n",
    "* **Loan Term:** This feature denotes the duration or term of the loan.\n",
    "* **Type of Loan:** It includes categories like “Personal Loan,” “Auto Loan,” or potentially other types of loans."
   ]
  },
  {
   "cell_type": "markdown",
   "id": "8a01ef52-b2aa-4608-9b86-a8e83b661935",
   "metadata": {},
   "source": [
    "Now let’s have a look at column insights before moving forward:"
   ]
  },
  {
   "cell_type": "code",
   "execution_count": 2,
   "id": "f2694bd0-4e2a-4d40-aefd-af156b935ce5",
   "metadata": {},
   "outputs": [
    {
     "name": "stdout",
     "output_type": "stream",
     "text": [
      "<class 'pandas.core.frame.DataFrame'>\n",
      "RangeIndex: 1000 entries, 0 to 999\n",
      "Data columns (total 12 columns):\n",
      " #   Column                     Non-Null Count  Dtype  \n",
      "---  ------                     --------------  -----  \n",
      " 0   Age                        1000 non-null   int64  \n",
      " 1   Gender                     1000 non-null   object \n",
      " 2   Marital Status             1000 non-null   object \n",
      " 3   Education Level            1000 non-null   object \n",
      " 4   Employment Status          1000 non-null   object \n",
      " 5   Credit Utilization Ratio   1000 non-null   float64\n",
      " 6   Payment History            1000 non-null   float64\n",
      " 7   Number of Credit Accounts  1000 non-null   int64  \n",
      " 8   Loan Amount                1000 non-null   int64  \n",
      " 9   Interest Rate              1000 non-null   float64\n",
      " 10  Loan Term                  1000 non-null   int64  \n",
      " 11  Type of Loan               1000 non-null   object \n",
      "dtypes: float64(3), int64(4), object(5)\n",
      "memory usage: 93.9+ KB\n"
     ]
    }
   ],
   "source": [
    "cred.info()"
   ]
  },
  {
   "cell_type": "markdown",
   "id": "1d599e8c-f789-438c-9faa-aad7ab50a3fa",
   "metadata": {},
   "source": [
    "Now let’s have a look at the descriptive statistics of the data:"
   ]
  },
  {
   "cell_type": "code",
   "execution_count": 3,
   "id": "74b6e4d3-6621-4399-99bb-01efdd588c9e",
   "metadata": {},
   "outputs": [
    {
     "data": {
      "text/html": [
       "<div>\n",
       "<style scoped>\n",
       "    .dataframe tbody tr th:only-of-type {\n",
       "        vertical-align: middle;\n",
       "    }\n",
       "\n",
       "    .dataframe tbody tr th {\n",
       "        vertical-align: top;\n",
       "    }\n",
       "\n",
       "    .dataframe thead th {\n",
       "        text-align: right;\n",
       "    }\n",
       "</style>\n",
       "<table border=\"1\" class=\"dataframe\">\n",
       "  <thead>\n",
       "    <tr style=\"text-align: right;\">\n",
       "      <th></th>\n",
       "      <th>Age</th>\n",
       "      <th>Credit Utilization Ratio</th>\n",
       "      <th>Payment History</th>\n",
       "      <th>Number of Credit Accounts</th>\n",
       "      <th>Loan Amount</th>\n",
       "      <th>Interest Rate</th>\n",
       "      <th>Loan Term</th>\n",
       "    </tr>\n",
       "  </thead>\n",
       "  <tbody>\n",
       "    <tr>\n",
       "      <th>count</th>\n",
       "      <td>1000.000000</td>\n",
       "      <td>1000.000000</td>\n",
       "      <td>1000.000000</td>\n",
       "      <td>1000.000000</td>\n",
       "      <td>1.000000e+03</td>\n",
       "      <td>1000.000000</td>\n",
       "      <td>1000.000000</td>\n",
       "    </tr>\n",
       "    <tr>\n",
       "      <th>mean</th>\n",
       "      <td>42.702000</td>\n",
       "      <td>0.509950</td>\n",
       "      <td>1452.814000</td>\n",
       "      <td>5.580000</td>\n",
       "      <td>2.471401e+06</td>\n",
       "      <td>10.686600</td>\n",
       "      <td>37.128000</td>\n",
       "    </tr>\n",
       "    <tr>\n",
       "      <th>std</th>\n",
       "      <td>13.266771</td>\n",
       "      <td>0.291057</td>\n",
       "      <td>827.934146</td>\n",
       "      <td>2.933634</td>\n",
       "      <td>1.387047e+06</td>\n",
       "      <td>5.479058</td>\n",
       "      <td>17.436274</td>\n",
       "    </tr>\n",
       "    <tr>\n",
       "      <th>min</th>\n",
       "      <td>20.000000</td>\n",
       "      <td>0.000000</td>\n",
       "      <td>0.000000</td>\n",
       "      <td>1.000000</td>\n",
       "      <td>1.080000e+05</td>\n",
       "      <td>1.010000</td>\n",
       "      <td>12.000000</td>\n",
       "    </tr>\n",
       "    <tr>\n",
       "      <th>25%</th>\n",
       "      <td>31.000000</td>\n",
       "      <td>0.250000</td>\n",
       "      <td>763.750000</td>\n",
       "      <td>3.000000</td>\n",
       "      <td>1.298000e+06</td>\n",
       "      <td>6.022500</td>\n",
       "      <td>24.000000</td>\n",
       "    </tr>\n",
       "    <tr>\n",
       "      <th>50%</th>\n",
       "      <td>42.000000</td>\n",
       "      <td>0.530000</td>\n",
       "      <td>1428.000000</td>\n",
       "      <td>6.000000</td>\n",
       "      <td>2.437500e+06</td>\n",
       "      <td>10.705000</td>\n",
       "      <td>36.000000</td>\n",
       "    </tr>\n",
       "    <tr>\n",
       "      <th>75%</th>\n",
       "      <td>54.000000</td>\n",
       "      <td>0.750000</td>\n",
       "      <td>2142.000000</td>\n",
       "      <td>8.000000</td>\n",
       "      <td>3.653250e+06</td>\n",
       "      <td>15.440000</td>\n",
       "      <td>48.000000</td>\n",
       "    </tr>\n",
       "    <tr>\n",
       "      <th>max</th>\n",
       "      <td>65.000000</td>\n",
       "      <td>1.000000</td>\n",
       "      <td>2857.000000</td>\n",
       "      <td>10.000000</td>\n",
       "      <td>4.996000e+06</td>\n",
       "      <td>19.990000</td>\n",
       "      <td>60.000000</td>\n",
       "    </tr>\n",
       "  </tbody>\n",
       "</table>\n",
       "</div>"
      ],
      "text/plain": [
       "               Age  Credit Utilization Ratio  Payment History  \\\n",
       "count  1000.000000               1000.000000      1000.000000   \n",
       "mean     42.702000                  0.509950      1452.814000   \n",
       "std      13.266771                  0.291057       827.934146   \n",
       "min      20.000000                  0.000000         0.000000   \n",
       "25%      31.000000                  0.250000       763.750000   \n",
       "50%      42.000000                  0.530000      1428.000000   \n",
       "75%      54.000000                  0.750000      2142.000000   \n",
       "max      65.000000                  1.000000      2857.000000   \n",
       "\n",
       "       Number of Credit Accounts   Loan Amount  Interest Rate    Loan Term  \n",
       "count                1000.000000  1.000000e+03    1000.000000  1000.000000  \n",
       "mean                    5.580000  2.471401e+06      10.686600    37.128000  \n",
       "std                     2.933634  1.387047e+06       5.479058    17.436274  \n",
       "min                     1.000000  1.080000e+05       1.010000    12.000000  \n",
       "25%                     3.000000  1.298000e+06       6.022500    24.000000  \n",
       "50%                     6.000000  2.437500e+06      10.705000    36.000000  \n",
       "75%                     8.000000  3.653250e+06      15.440000    48.000000  \n",
       "max                    10.000000  4.996000e+06      19.990000    60.000000  "
      ]
     },
     "execution_count": 3,
     "metadata": {},
     "output_type": "execute_result"
    }
   ],
   "source": [
    "cred.describe()"
   ]
  },
  {
   "cell_type": "markdown",
   "id": "c993d546-2484-4763-9fc1-d6935b3d4d09",
   "metadata": {},
   "source": [
    "Now let’s have a look at the distribution of the credit utilization ratio in the data:"
   ]
  },
  {
   "cell_type": "code",
   "execution_count": 4,
   "id": "050e2f24-5ef6-425d-aa50-102773e3e16f",
   "metadata": {},
   "outputs": [
    {
     "data": {
      "application/vnd.plotly.v1+json": {
       "config": {
        "plotlyServerURL": "https://plot.ly"
       },
       "data": [
        {
         "alignmentgroup": "True",
         "hovertemplate": "Credit Utilization Ratio=%{y}<extra></extra>",
         "legendgroup": "",
         "marker": {
          "color": "#636efa"
         },
         "name": "",
         "notched": false,
         "offsetgroup": "",
         "orientation": "v",
         "showlegend": false,
         "type": "box",
         "x0": " ",
         "xaxis": "x",
         "y": {
          "bdata": "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",
          "dtype": "f8"
         },
         "y0": " ",
         "yaxis": "y"
        }
       ],
       "layout": {
        "boxmode": "group",
        "legend": {
         "tracegroupgap": 0
        },
        "template": {
         "data": {
          "bar": [
           {
            "error_x": {
             "color": "#2a3f5f"
            },
            "error_y": {
             "color": "#2a3f5f"
            },
            "marker": {
             "line": {
              "color": "white",
              "width": 0.5
             },
             "pattern": {
              "fillmode": "overlay",
              "size": 10,
              "solidity": 0.2
             }
            },
            "type": "bar"
           }
          ],
          "barpolar": [
           {
            "marker": {
             "line": {
              "color": "white",
              "width": 0.5
             },
             "pattern": {
              "fillmode": "overlay",
              "size": 10,
              "solidity": 0.2
             }
            },
            "type": "barpolar"
           }
          ],
          "carpet": [
           {
            "aaxis": {
             "endlinecolor": "#2a3f5f",
             "gridcolor": "#C8D4E3",
             "linecolor": "#C8D4E3",
             "minorgridcolor": "#C8D4E3",
             "startlinecolor": "#2a3f5f"
            },
            "baxis": {
             "endlinecolor": "#2a3f5f",
             "gridcolor": "#C8D4E3",
             "linecolor": "#C8D4E3",
             "minorgridcolor": "#C8D4E3",
             "startlinecolor": "#2a3f5f"
            },
            "type": "carpet"
           }
          ],
          "choropleth": [
           {
            "colorbar": {
             "outlinewidth": 0,
             "ticks": ""
            },
            "type": "choropleth"
           }
          ],
          "contour": [
           {
            "colorbar": {
             "outlinewidth": 0,
             "ticks": ""
            },
            "colorscale": [
             [
              0,
              "#0d0887"
             ],
             [
              0.1111111111111111,
              "#46039f"
             ],
             [
              0.2222222222222222,
              "#7201a8"
             ],
             [
              0.3333333333333333,
              "#9c179e"
             ],
             [
              0.4444444444444444,
              "#bd3786"
             ],
             [
              0.5555555555555556,
              "#d8576b"
             ],
             [
              0.6666666666666666,
              "#ed7953"
             ],
             [
              0.7777777777777778,
              "#fb9f3a"
             ],
             [
              0.8888888888888888,
              "#fdca26"
             ],
             [
              1,
              "#f0f921"
             ]
            ],
            "type": "contour"
           }
          ],
          "contourcarpet": [
           {
            "colorbar": {
             "outlinewidth": 0,
             "ticks": ""
            },
            "type": "contourcarpet"
           }
          ],
          "heatmap": [
           {
            "colorbar": {
             "outlinewidth": 0,
             "ticks": ""
            },
            "colorscale": [
             [
              0,
              "#0d0887"
             ],
             [
              0.1111111111111111,
              "#46039f"
             ],
             [
              0.2222222222222222,
              "#7201a8"
             ],
             [
              0.3333333333333333,
              "#9c179e"
             ],
             [
              0.4444444444444444,
              "#bd3786"
             ],
             [
              0.5555555555555556,
              "#d8576b"
             ],
             [
              0.6666666666666666,
              "#ed7953"
             ],
             [
              0.7777777777777778,
              "#fb9f3a"
             ],
             [
              0.8888888888888888,
              "#fdca26"
             ],
             [
              1,
              "#f0f921"
             ]
            ],
            "type": "heatmap"
           }
          ],
          "histogram": [
           {
            "marker": {
             "pattern": {
              "fillmode": "overlay",
              "size": 10,
              "solidity": 0.2
             }
            },
            "type": "histogram"
           }
          ],
          "histogram2d": [
           {
            "colorbar": {
             "outlinewidth": 0,
             "ticks": ""
            },
            "colorscale": [
             [
              0,
              "#0d0887"
             ],
             [
              0.1111111111111111,
              "#46039f"
             ],
             [
              0.2222222222222222,
              "#7201a8"
             ],
             [
              0.3333333333333333,
              "#9c179e"
             ],
             [
              0.4444444444444444,
              "#bd3786"
             ],
             [
              0.5555555555555556,
              "#d8576b"
             ],
             [
              0.6666666666666666,
              "#ed7953"
             ],
             [
              0.7777777777777778,
              "#fb9f3a"
             ],
             [
              0.8888888888888888,
              "#fdca26"
             ],
             [
              1,
              "#f0f921"
             ]
            ],
            "type": "histogram2d"
           }
          ],
          "histogram2dcontour": [
           {
            "colorbar": {
             "outlinewidth": 0,
             "ticks": ""
            },
            "colorscale": [
             [
              0,
              "#0d0887"
             ],
             [
              0.1111111111111111,
              "#46039f"
             ],
             [
              0.2222222222222222,
              "#7201a8"
             ],
             [
              0.3333333333333333,
              "#9c179e"
             ],
             [
              0.4444444444444444,
              "#bd3786"
             ],
             [
              0.5555555555555556,
              "#d8576b"
             ],
             [
              0.6666666666666666,
              "#ed7953"
             ],
             [
              0.7777777777777778,
              "#fb9f3a"
             ],
             [
              0.8888888888888888,
              "#fdca26"
             ],
             [
              1,
              "#f0f921"
             ]
            ],
            "type": "histogram2dcontour"
           }
          ],
          "mesh3d": [
           {
            "colorbar": {
             "outlinewidth": 0,
             "ticks": ""
            },
            "type": "mesh3d"
           }
          ],
          "parcoords": [
           {
            "line": {
             "colorbar": {
              "outlinewidth": 0,
              "ticks": ""
             }
            },
            "type": "parcoords"
           }
          ],
          "pie": [
           {
            "automargin": true,
            "type": "pie"
           }
          ],
          "scatter": [
           {
            "fillpattern": {
             "fillmode": "overlay",
             "size": 10,
             "solidity": 0.2
            },
            "type": "scatter"
           }
          ],
          "scatter3d": [
           {
            "line": {
             "colorbar": {
              "outlinewidth": 0,
              "ticks": ""
             }
            },
            "marker": {
             "colorbar": {
              "outlinewidth": 0,
              "ticks": ""
             }
            },
            "type": "scatter3d"
           }
          ],
          "scattercarpet": [
           {
            "marker": {
             "colorbar": {
              "outlinewidth": 0,
              "ticks": ""
             }
            },
            "type": "scattercarpet"
           }
          ],
          "scattergeo": [
           {
            "marker": {
             "colorbar": {
              "outlinewidth": 0,
              "ticks": ""
             }
            },
            "type": "scattergeo"
           }
          ],
          "scattergl": [
           {
            "marker": {
             "colorbar": {
              "outlinewidth": 0,
              "ticks": ""
             }
            },
            "type": "scattergl"
           }
          ],
          "scattermap": [
           {
            "marker": {
             "colorbar": {
              "outlinewidth": 0,
              "ticks": ""
             }
            },
            "type": "scattermap"
           }
          ],
          "scattermapbox": [
           {
            "marker": {
             "colorbar": {
              "outlinewidth": 0,
              "ticks": ""
             }
            },
            "type": "scattermapbox"
           }
          ],
          "scatterpolar": [
           {
            "marker": {
             "colorbar": {
              "outlinewidth": 0,
              "ticks": ""
             }
            },
            "type": "scatterpolar"
           }
          ],
          "scatterpolargl": [
           {
            "marker": {
             "colorbar": {
              "outlinewidth": 0,
              "ticks": ""
             }
            },
            "type": "scatterpolargl"
           }
          ],
          "scatterternary": [
           {
            "marker": {
             "colorbar": {
              "outlinewidth": 0,
              "ticks": ""
             }
            },
            "type": "scatterternary"
           }
          ],
          "surface": [
           {
            "colorbar": {
             "outlinewidth": 0,
             "ticks": ""
            },
            "colorscale": [
             [
              0,
              "#0d0887"
             ],
             [
              0.1111111111111111,
              "#46039f"
             ],
             [
              0.2222222222222222,
              "#7201a8"
             ],
             [
              0.3333333333333333,
              "#9c179e"
             ],
             [
              0.4444444444444444,
              "#bd3786"
             ],
             [
              0.5555555555555556,
              "#d8576b"
             ],
             [
              0.6666666666666666,
              "#ed7953"
             ],
             [
              0.7777777777777778,
              "#fb9f3a"
             ],
             [
              0.8888888888888888,
              "#fdca26"
             ],
             [
              1,
              "#f0f921"
             ]
            ],
            "type": "surface"
           }
          ],
          "table": [
           {
            "cells": {
             "fill": {
              "color": "#EBF0F8"
             },
             "line": {
              "color": "white"
             }
            },
            "header": {
             "fill": {
              "color": "#C8D4E3"
             },
             "line": {
              "color": "white"
             }
            },
            "type": "table"
           }
          ]
         },
         "layout": {
          "annotationdefaults": {
           "arrowcolor": "#2a3f5f",
           "arrowhead": 0,
           "arrowwidth": 1
          },
          "autotypenumbers": "strict",
          "coloraxis": {
           "colorbar": {
            "outlinewidth": 0,
            "ticks": ""
           }
          },
          "colorscale": {
           "diverging": [
            [
             0,
             "#8e0152"
            ],
            [
             0.1,
             "#c51b7d"
            ],
            [
             0.2,
             "#de77ae"
            ],
            [
             0.3,
             "#f1b6da"
            ],
            [
             0.4,
             "#fde0ef"
            ],
            [
             0.5,
             "#f7f7f7"
            ],
            [
             0.6,
             "#e6f5d0"
            ],
            [
             0.7,
             "#b8e186"
            ],
            [
             0.8,
             "#7fbc41"
            ],
            [
             0.9,
             "#4d9221"
            ],
            [
             1,
             "#276419"
            ]
           ],
           "sequential": [
            [
             0,
             "#0d0887"
            ],
            [
             0.1111111111111111,
             "#46039f"
            ],
            [
             0.2222222222222222,
             "#7201a8"
            ],
            [
             0.3333333333333333,
             "#9c179e"
            ],
            [
             0.4444444444444444,
             "#bd3786"
            ],
            [
             0.5555555555555556,
             "#d8576b"
            ],
            [
             0.6666666666666666,
             "#ed7953"
            ],
            [
             0.7777777777777778,
             "#fb9f3a"
            ],
            [
             0.8888888888888888,
             "#fdca26"
            ],
            [
             1,
             "#f0f921"
            ]
           ],
           "sequentialminus": [
            [
             0,
             "#0d0887"
            ],
            [
             0.1111111111111111,
             "#46039f"
            ],
            [
             0.2222222222222222,
             "#7201a8"
            ],
            [
             0.3333333333333333,
             "#9c179e"
            ],
            [
             0.4444444444444444,
             "#bd3786"
            ],
            [
             0.5555555555555556,
             "#d8576b"
            ],
            [
             0.6666666666666666,
             "#ed7953"
            ],
            [
             0.7777777777777778,
             "#fb9f3a"
            ],
            [
             0.8888888888888888,
             "#fdca26"
            ],
            [
             1,
             "#f0f921"
            ]
           ]
          },
          "colorway": [
           "#636efa",
           "#EF553B",
           "#00cc96",
           "#ab63fa",
           "#FFA15A",
           "#19d3f3",
           "#FF6692",
           "#B6E880",
           "#FF97FF",
           "#FECB52"
          ],
          "font": {
           "color": "#2a3f5f"
          },
          "geo": {
           "bgcolor": "white",
           "lakecolor": "white",
           "landcolor": "white",
           "showlakes": true,
           "showland": true,
           "subunitcolor": "#C8D4E3"
          },
          "hoverlabel": {
           "align": "left"
          },
          "hovermode": "closest",
          "mapbox": {
           "style": "light"
          },
          "paper_bgcolor": "white",
          "plot_bgcolor": "white",
          "polar": {
           "angularaxis": {
            "gridcolor": "#EBF0F8",
            "linecolor": "#EBF0F8",
            "ticks": ""
           },
           "bgcolor": "white",
           "radialaxis": {
            "gridcolor": "#EBF0F8",
            "linecolor": "#EBF0F8",
            "ticks": ""
           }
          },
          "scene": {
           "xaxis": {
            "backgroundcolor": "white",
            "gridcolor": "#DFE8F3",
            "gridwidth": 2,
            "linecolor": "#EBF0F8",
            "showbackground": true,
            "ticks": "",
            "zerolinecolor": "#EBF0F8"
           },
           "yaxis": {
            "backgroundcolor": "white",
            "gridcolor": "#DFE8F3",
            "gridwidth": 2,
            "linecolor": "#EBF0F8",
            "showbackground": true,
            "ticks": "",
            "zerolinecolor": "#EBF0F8"
           },
           "zaxis": {
            "backgroundcolor": "white",
            "gridcolor": "#DFE8F3",
            "gridwidth": 2,
            "linecolor": "#EBF0F8",
            "showbackground": true,
            "ticks": "",
            "zerolinecolor": "#EBF0F8"
           }
          },
          "shapedefaults": {
           "line": {
            "color": "#2a3f5f"
           }
          },
          "ternary": {
           "aaxis": {
            "gridcolor": "#DFE8F3",
            "linecolor": "#A2B1C6",
            "ticks": ""
           },
           "baxis": {
            "gridcolor": "#DFE8F3",
            "linecolor": "#A2B1C6",
            "ticks": ""
           },
           "bgcolor": "white",
           "caxis": {
            "gridcolor": "#DFE8F3",
            "linecolor": "#A2B1C6",
            "ticks": ""
           }
          },
          "title": {
           "x": 0.05
          },
          "xaxis": {
           "automargin": true,
           "gridcolor": "#EBF0F8",
           "linecolor": "#EBF0F8",
           "ticks": "",
           "title": {
            "standoff": 15
           },
           "zerolinecolor": "#EBF0F8",
           "zerolinewidth": 2
          },
          "yaxis": {
           "automargin": true,
           "gridcolor": "#EBF0F8",
           "linecolor": "#EBF0F8",
           "ticks": "",
           "title": {
            "standoff": 15
           },
           "zerolinecolor": "#EBF0F8",
           "zerolinewidth": 2
          }
         }
        },
        "title": {
         "text": "Credit Utilization Ration Distribution"
        },
        "xaxis": {
         "anchor": "y",
         "domain": [
          0,
          1
         ]
        },
        "yaxis": {
         "anchor": "x",
         "domain": [
          0,
          1
         ],
         "title": {
          "text": "Credit Utilization Ratio"
         }
        }
       }
      },
      "image/png": "[encoded data removed]"
     },
     "metadata": {},
     "output_type": "display_data"
    }
   ],
   "source": [
    "credit_util_fig = px.box(cred , y = \"Credit Utilization Ratio\" , title= \"Credit Utilization Ration Distribution\")\n",
    "\n",
    "credit_util_fig.show()"
   ]
  },
  {
   "cell_type": "markdown",
   "id": "e6904436-554f-405d-a034-ecc102562138",
   "metadata": {},
   "source": [
    "Now let’s have a look at the distribution of the loan amount in the data:"
   ]
  },
  {
   "cell_type": "code",
   "execution_count": 5,
   "id": "0256092f-36cb-4c6d-8560-1b3341465b54",
   "metadata": {},
   "outputs": [
    {
     "data": {
      "application/vnd.plotly.v1+json": {
       "config": {
        "plotlyServerURL": "https://plot.ly"
       },
       "data": [
        {
         "bingroup": "x",
         "hovertemplate": "Loan Amount=%{x}<br>count=%{y}<extra></extra>",
         "legendgroup": "",
         "marker": {
          "color": "#636efa",
          "pattern": {
           "shape": ""
          }
         },
         "name": "",
         "nbinsx": 20,
         "orientation": "v",
         "showlegend": false,
         "type": "histogram",
         "x": {
          "bdata": "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",
          "dtype": "i4"
         },
         "xaxis": "x",
         "yaxis": "y"
        }
       ],
       "layout": {
        "barmode": "relative",
        "legend": {
         "tracegroupgap": 0
        },
        "template": {
         "data": {
          "bar": [
           {
            "error_x": {
             "color": "#2a3f5f"
            },
            "error_y": {
             "color": "#2a3f5f"
            },
            "marker": {
             "line": {
              "color": "white",
              "width": 0.5
             },
             "pattern": {
              "fillmode": "overlay",
              "size": 10,
              "solidity": 0.2
             }
            },
            "type": "bar"
           }
          ],
          "barpolar": [
           {
            "marker": {
             "line": {
              "color": "white",
              "width": 0.5
             },
             "pattern": {
              "fillmode": "overlay",
              "size": 10,
              "solidity": 0.2
             }
            },
            "type": "barpolar"
           }
          ],
          "carpet": [
           {
            "aaxis": {
             "endlinecolor": "#2a3f5f",
             "gridcolor": "#C8D4E3",
             "linecolor": "#C8D4E3",
             "minorgridcolor": "#C8D4E3",
             "startlinecolor": "#2a3f5f"
            },
            "baxis": {
             "endlinecolor": "#2a3f5f",
             "gridcolor": "#C8D4E3",
             "linecolor": "#C8D4E3",
             "minorgridcolor": "#C8D4E3",
             "startlinecolor": "#2a3f5f"
            },
            "type": "carpet"
           }
          ],
          "choropleth": [
           {
            "colorbar": {
             "outlinewidth": 0,
             "ticks": ""
            },
            "type": "choropleth"
           }
          ],
          "contour": [
           {
            "colorbar": {
             "outlinewidth": 0,
             "ticks": ""
            },
            "colorscale": [
             [
              0,
              "#0d0887"
             ],
             [
              0.1111111111111111,
              "#46039f"
             ],
             [
              0.2222222222222222,
              "#7201a8"
             ],
             [
              0.3333333333333333,
              "#9c179e"
             ],
             [
              0.4444444444444444,
              "#bd3786"
             ],
             [
              0.5555555555555556,
              "#d8576b"
             ],
             [
              0.6666666666666666,
              "#ed7953"
             ],
             [
              0.7777777777777778,
              "#fb9f3a"
             ],
             [
              0.8888888888888888,
              "#fdca26"
             ],
             [
              1,
              "#f0f921"
             ]
            ],
            "type": "contour"
           }
          ],
          "contourcarpet": [
           {
            "colorbar": {
             "outlinewidth": 0,
             "ticks": ""
            },
            "type": "contourcarpet"
           }
          ],
          "heatmap": [
           {
            "colorbar": {
             "outlinewidth": 0,
             "ticks": ""
            },
            "colorscale": [
             [
              0,
              "#0d0887"
             ],
             [
              0.1111111111111111,
              "#46039f"
             ],
             [
              0.2222222222222222,
              "#7201a8"
             ],
             [
              0.3333333333333333,
              "#9c179e"
             ],
             [
              0.4444444444444444,
              "#bd3786"
             ],
             [
              0.5555555555555556,
              "#d8576b"
             ],
             [
              0.6666666666666666,
              "#ed7953"
             ],
             [
              0.7777777777777778,
              "#fb9f3a"
             ],
             [
              0.8888888888888888,
              "#fdca26"
             ],
             [
              1,
              "#f0f921"
             ]
            ],
            "type": "heatmap"
           }
          ],
          "histogram": [
           {
            "marker": {
             "pattern": {
              "fillmode": "overlay",
              "size": 10,
              "solidity": 0.2
             }
            },
            "type": "histogram"
           }
          ],
          "histogram2d": [
           {
            "colorbar": {
             "outlinewidth": 0,
             "ticks": ""
            },
            "colorscale": [
             [
              0,
              "#0d0887"
             ],
             [
              0.1111111111111111,
              "#46039f"
             ],
             [
              0.2222222222222222,
              "#7201a8"
             ],
             [
              0.3333333333333333,
              "#9c179e"
             ],
             [
              0.4444444444444444,
              "#bd3786"
             ],
             [
              0.5555555555555556,
              "#d8576b"
             ],
             [
              0.6666666666666666,
              "#ed7953"
             ],
             [
              0.7777777777777778,
              "#fb9f3a"
             ],
             [
              0.8888888888888888,
              "#fdca26"
             ],
             [
              1,
              "#f0f921"
             ]
            ],
            "type": "histogram2d"
           }
          ],
          "histogram2dcontour": [
           {
            "colorbar": {
             "outlinewidth": 0,
             "ticks": ""
            },
            "colorscale": [
             [
              0,
              "#0d0887"
             ],
             [
              0.1111111111111111,
              "#46039f"
             ],
             [
              0.2222222222222222,
              "#7201a8"
             ],
             [
              0.3333333333333333,
              "#9c179e"
             ],
             [
              0.4444444444444444,
              "#bd3786"
             ],
             [
              0.5555555555555556,
              "#d8576b"
             ],
             [
              0.6666666666666666,
              "#ed7953"
             ],
             [
              0.7777777777777778,
              "#fb9f3a"
             ],
             [
              0.8888888888888888,
              "#fdca26"
             ],
             [
              1,
              "#f0f921"
             ]
            ],
            "type": "histogram2dcontour"
           }
          ],
          "mesh3d": [
           {
            "colorbar": {
             "outlinewidth": 0,
             "ticks": ""
            },
            "type": "mesh3d"
           }
          ],
          "parcoords": [
           {
            "line": {
             "colorbar": {
              "outlinewidth": 0,
              "ticks": ""
             }
            },
            "type": "parcoords"
           }
          ],
          "pie": [
           {
            "automargin": true,
            "type": "pie"
           }
          ],
          "scatter": [
           {
            "fillpattern": {
             "fillmode": "overlay",
             "size": 10,
             "solidity": 0.2
            },
            "type": "scatter"
           }
          ],
          "scatter3d": [
           {
            "line": {
             "colorbar": {
              "outlinewidth": 0,
              "ticks": ""
             }
            },
            "marker": {
             "colorbar": {
              "outlinewidth": 0,
              "ticks": ""
             }
            },
            "type": "scatter3d"
           }
          ],
          "scattercarpet": [
           {
            "marker": {
             "colorbar": {
              "outlinewidth": 0,
              "ticks": ""
             }
            },
            "type": "scattercarpet"
           }
          ],
          "scattergeo": [
           {
            "marker": {
             "colorbar": {
              "outlinewidth": 0,
              "ticks": ""
             }
            },
            "type": "scattergeo"
           }
          ],
          "scattergl": [
           {
            "marker": {
             "colorbar": {
              "outlinewidth": 0,
              "ticks": ""
             }
            },
            "type": "scattergl"
           }
          ],
          "scattermap": [
           {
            "marker": {
             "colorbar": {
              "outlinewidth": 0,
              "ticks": ""
             }
            },
            "type": "scattermap"
           }
          ],
          "scattermapbox": [
           {
            "marker": {
             "colorbar": {
              "outlinewidth": 0,
              "ticks": ""
             }
            },
            "type": "scattermapbox"
           }
          ],
          "scatterpolar": [
           {
            "marker": {
             "colorbar": {
              "outlinewidth": 0,
              "ticks": ""
             }
            },
            "type": "scatterpolar"
           }
          ],
          "scatterpolargl": [
           {
            "marker": {
             "colorbar": {
              "outlinewidth": 0,
              "ticks": ""
             }
            },
            "type": "scatterpolargl"
           }
          ],
          "scatterternary": [
           {
            "marker": {
             "colorbar": {
              "outlinewidth": 0,
              "ticks": ""
             }
            },
            "type": "scatterternary"
           }
          ],
          "surface": [
           {
            "colorbar": {
             "outlinewidth": 0,
             "ticks": ""
            },
            "colorscale": [
             [
              0,
              "#0d0887"
             ],
             [
              0.1111111111111111,
              "#46039f"
             ],
             [
              0.2222222222222222,
              "#7201a8"
             ],
             [
              0.3333333333333333,
              "#9c179e"
             ],
             [
              0.4444444444444444,
              "#bd3786"
             ],
             [
              0.5555555555555556,
              "#d8576b"
             ],
             [
              0.6666666666666666,
              "#ed7953"
             ],
             [
              0.7777777777777778,
              "#fb9f3a"
             ],
             [
              0.8888888888888888,
              "#fdca26"
             ],
             [
              1,
              "#f0f921"
             ]
            ],
            "type": "surface"
           }
          ],
          "table": [
           {
            "cells": {
             "fill": {
              "color": "#EBF0F8"
             },
             "line": {
              "color": "white"
             }
            },
            "header": {
             "fill": {
              "color": "#C8D4E3"
             },
             "line": {
              "color": "white"
             }
            },
            "type": "table"
           }
          ]
         },
         "layout": {
          "annotationdefaults": {
           "arrowcolor": "#2a3f5f",
           "arrowhead": 0,
           "arrowwidth": 1
          },
          "autotypenumbers": "strict",
          "coloraxis": {
           "colorbar": {
            "outlinewidth": 0,
            "ticks": ""
           }
          },
          "colorscale": {
           "diverging": [
            [
             0,
             "#8e0152"
            ],
            [
             0.1,
             "#c51b7d"
            ],
            [
             0.2,
             "#de77ae"
            ],
            [
             0.3,
             "#f1b6da"
            ],
            [
             0.4,
             "#fde0ef"
            ],
            [
             0.5,
             "#f7f7f7"
            ],
            [
             0.6,
             "#e6f5d0"
            ],
            [
             0.7,
             "#b8e186"
            ],
            [
             0.8,
             "#7fbc41"
            ],
            [
             0.9,
             "#4d9221"
            ],
            [
             1,
             "#276419"
            ]
           ],
           "sequential": [
            [
             0,
             "#0d0887"
            ],
            [
             0.1111111111111111,
             "#46039f"
            ],
            [
             0.2222222222222222,
             "#7201a8"
            ],
            [
             0.3333333333333333,
             "#9c179e"
            ],
            [
             0.4444444444444444,
             "#bd3786"
            ],
            [
             0.5555555555555556,
             "#d8576b"
            ],
            [
             0.6666666666666666,
             "#ed7953"
            ],
            [
             0.7777777777777778,
             "#fb9f3a"
            ],
            [
             0.8888888888888888,
             "#fdca26"
            ],
            [
             1,
             "#f0f921"
            ]
           ],
           "sequentialminus": [
            [
             0,
             "#0d0887"
            ],
            [
             0.1111111111111111,
             "#46039f"
            ],
            [
             0.2222222222222222,
             "#7201a8"
            ],
            [
             0.3333333333333333,
             "#9c179e"
            ],
            [
             0.4444444444444444,
             "#bd3786"
            ],
            [
             0.5555555555555556,
             "#d8576b"
            ],
            [
             0.6666666666666666,
             "#ed7953"
            ],
            [
             0.7777777777777778,
             "#fb9f3a"
            ],
            [
             0.8888888888888888,
             "#fdca26"
            ],
            [
             1,
             "#f0f921"
            ]
           ]
          },
          "colorway": [
           "#636efa",
           "#EF553B",
           "#00cc96",
           "#ab63fa",
           "#FFA15A",
           "#19d3f3",
           "#FF6692",
           "#B6E880",
           "#FF97FF",
           "#FECB52"
          ],
          "font": {
           "color": "#2a3f5f"
          },
          "geo": {
           "bgcolor": "white",
           "lakecolor": "white",
           "landcolor": "white",
           "showlakes": true,
           "showland": true,
           "subunitcolor": "#C8D4E3"
          },
          "hoverlabel": {
           "align": "left"
          },
          "hovermode": "closest",
          "mapbox": {
           "style": "light"
          },
          "paper_bgcolor": "white",
          "plot_bgcolor": "white",
          "polar": {
           "angularaxis": {
            "gridcolor": "#EBF0F8",
            "linecolor": "#EBF0F8",
            "ticks": ""
           },
           "bgcolor": "white",
           "radialaxis": {
            "gridcolor": "#EBF0F8",
            "linecolor": "#EBF0F8",
            "ticks": ""
           }
          },
          "scene": {
           "xaxis": {
            "backgroundcolor": "white",
            "gridcolor": "#DFE8F3",
            "gridwidth": 2,
            "linecolor": "#EBF0F8",
            "showbackground": true,
            "ticks": "",
            "zerolinecolor": "#EBF0F8"
           },
           "yaxis": {
            "backgroundcolor": "white",
            "gridcolor": "#DFE8F3",
            "gridwidth": 2,
            "linecolor": "#EBF0F8",
            "showbackground": true,
            "ticks": "",
            "zerolinecolor": "#EBF0F8"
           },
           "zaxis": {
            "backgroundcolor": "white",
            "gridcolor": "#DFE8F3",
            "gridwidth": 2,
            "linecolor": "#EBF0F8",
            "showbackground": true,
            "ticks": "",
            "zerolinecolor": "#EBF0F8"
           }
          },
          "shapedefaults": {
           "line": {
            "color": "#2a3f5f"
           }
          },
          "ternary": {
           "aaxis": {
            "gridcolor": "#DFE8F3",
            "linecolor": "#A2B1C6",
            "ticks": ""
           },
           "baxis": {
            "gridcolor": "#DFE8F3",
            "linecolor": "#A2B1C6",
            "ticks": ""
           },
           "bgcolor": "white",
           "caxis": {
            "gridcolor": "#DFE8F3",
            "linecolor": "#A2B1C6",
            "ticks": ""
           }
          },
          "title": {
           "x": 0.05
          },
          "xaxis": {
           "automargin": true,
           "gridcolor": "#EBF0F8",
           "linecolor": "#EBF0F8",
           "ticks": "",
           "title": {
            "standoff": 15
           },
           "zerolinecolor": "#EBF0F8",
           "zerolinewidth": 2
          },
          "yaxis": {
           "automargin": true,
           "gridcolor": "#EBF0F8",
           "linecolor": "#EBF0F8",
           "ticks": "",
           "title": {
            "standoff": 15
           },
           "zerolinecolor": "#EBF0F8",
           "zerolinewidth": 2
          }
         }
        },
        "title": {
         "text": "Loan Amount Distribution"
        },
        "xaxis": {
         "anchor": "y",
         "domain": [
          0,
          1
         ],
         "title": {
          "text": "Loan Amount"
         }
        },
        "yaxis": {
         "anchor": "x",
         "domain": [
          0,
          1
         ],
         "title": {
          "text": "count"
         }
        }
       }
      },
      "image/png": "[encoded data removed]"
     },
     "metadata": {},
     "output_type": "display_data"
    }
   ],
   "source": [
    "vis_Loan_Amount = px.histogram(cred , x = \"Loan Amount\" , nbins= 20 , title= \"Loan Amount Distribution\")\n",
    "\n",
    "vis_Loan_Amount.show()"
   ]
  },
  {
   "cell_type": "markdown",
   "id": "3810a330-79fc-4e0a-b0cc-a5e77acab475",
   "metadata": {},
   "source": [
    "Now let’s have a look at the correlation in the data:"
   ]
  },
  {
   "cell_type": "code",
   "execution_count": 6,
   "id": "856282a7-3974-4c43-a157-60c53c6441e6",
   "metadata": {},
   "outputs": [
    {
     "data": {
      "application/vnd.plotly.v1+json": {
       "config": {
        "plotlyServerURL": "https://plot.ly"
       },
       "data": [
        {
         "coloraxis": "coloraxis",
         "hovertemplate": "x: %{x}<br>y: %{y}<br>color: %{z}<extra></extra>",
         "name": "0",
         "texttemplate": "%{z:.2f}",
         "type": "heatmap",
         "x": [
          "Age",
          "Credit Utilization Ratio",
          "Payment History",
          "Number of Credit Accounts",
          "Loan Amount",
          "Interest Rate",
          "Loan Term"
         ],
         "xaxis": "x",
         "y": [
          "Age",
          "Credit Utilization Ratio",
          "Payment History",
          "Number of Credit Accounts",
          "Loan Amount",
          "Interest Rate",
          "Loan Term"
         ],
         "yaxis": "y",
         "z": {
          "bdata": "AAAAAAAA8D/CX2uXkG1VPyGc+9CngWm/Lx716qHxqb8+V7kwV3ehP1AG+qj306A/8OSzvn/olT/CX2uXkG1VPwAAAAAAAPA/t53JlcpRYT8WyEIpzCxev+45nESPjY6/C8F0SYOyqD+ztzPffHmXvyGc+9CngWm/t53JlcpRYT8AAAAAAADwP42B2w51n5k/xCwl87GKk7+dHLrOhAqSv7Prrn73T6e/Lx716qHxqb8WyEIpzCxev42B2w51n5k/AAAAAAAA8D97R1bPvICgP7HLsUnYvVG/7LcxDYozij8+V7kwV3ehP+45nESPjY6/xCwl87GKk797R1bPvICgPwAAAAAAAPA/CdX7s/8vpz/Zd6PHZkCNP1AG+qj306A/C8F0SYOyqD+dHLrOhAqSv7HLsUnYvVG/CdX7s/8vpz8AAAAAAADwPytIj0jF3Zw/8OSzvn/olT+ztzPffHmXv7Prrn73T6e/7LcxDYozij/Zd6PHZkCNPytIj0jF3Zw/AAAAAAAA8D8=",
          "dtype": "f8",
          "shape": "7, 7"
         }
        }
       ],
       "layout": {
        "coloraxis": {
         "colorscale": [
          [
           0,
           "#0d0887"
          ],
          [
           0.1111111111111111,
           "#46039f"
          ],
          [
           0.2222222222222222,
           "#7201a8"
          ],
          [
           0.3333333333333333,
           "#9c179e"
          ],
          [
           0.4444444444444444,
           "#bd3786"
          ],
          [
           0.5555555555555556,
           "#d8576b"
          ],
          [
           0.6666666666666666,
           "#ed7953"
          ],
          [
           0.7777777777777778,
           "#fb9f3a"
          ],
          [
           0.8888888888888888,
           "#fdca26"
          ],
          [
           1,
           "#f0f921"
          ]
         ]
        },
        "height": 800,
        "margin": {
         "b": 60,
         "l": 60,
         "r": 60,
         "t": 80
        },
        "template": {
         "data": {
          "bar": [
           {
            "error_x": {
             "color": "#2a3f5f"
            },
            "error_y": {
             "color": "#2a3f5f"
            },
            "marker": {
             "line": {
              "color": "white",
              "width": 0.5
             },
             "pattern": {
              "fillmode": "overlay",
              "size": 10,
              "solidity": 0.2
             }
            },
            "type": "bar"
           }
          ],
          "barpolar": [
           {
            "marker": {
             "line": {
              "color": "white",
              "width": 0.5
             },
             "pattern": {
              "fillmode": "overlay",
              "size": 10,
              "solidity": 0.2
             }
            },
            "type": "barpolar"
           }
          ],
          "carpet": [
           {
            "aaxis": {
             "endlinecolor": "#2a3f5f",
             "gridcolor": "#C8D4E3",
             "linecolor": "#C8D4E3",
             "minorgridcolor": "#C8D4E3",
             "startlinecolor": "#2a3f5f"
            },
            "baxis": {
             "endlinecolor": "#2a3f5f",
             "gridcolor": "#C8D4E3",
             "linecolor": "#C8D4E3",
             "minorgridcolor": "#C8D4E3",
             "startlinecolor": "#2a3f5f"
            },
            "type": "carpet"
           }
          ],
          "choropleth": [
           {
            "colorbar": {
             "outlinewidth": 0,
             "ticks": ""
            },
            "type": "choropleth"
           }
          ],
          "contour": [
           {
            "colorbar": {
             "outlinewidth": 0,
             "ticks": ""
            },
            "colorscale": [
             [
              0,
              "#0d0887"
             ],
             [
              0.1111111111111111,
              "#46039f"
             ],
             [
              0.2222222222222222,
              "#7201a8"
             ],
             [
              0.3333333333333333,
              "#9c179e"
             ],
             [
              0.4444444444444444,
              "#bd3786"
             ],
             [
              0.5555555555555556,
              "#d8576b"
             ],
             [
              0.6666666666666666,
              "#ed7953"
             ],
             [
              0.7777777777777778,
              "#fb9f3a"
             ],
             [
              0.8888888888888888,
              "#fdca26"
             ],
             [
              1,
              "#f0f921"
             ]
            ],
            "type": "contour"
           }
          ],
          "contourcarpet": [
           {
            "colorbar": {
             "outlinewidth": 0,
             "ticks": ""
            },
            "type": "contourcarpet"
           }
          ],
          "heatmap": [
           {
            "colorbar": {
             "outlinewidth": 0,
             "ticks": ""
            },
            "colorscale": [
             [
              0,
              "#0d0887"
             ],
             [
              0.1111111111111111,
              "#46039f"
             ],
             [
              0.2222222222222222,
              "#7201a8"
             ],
             [
              0.3333333333333333,
              "#9c179e"
             ],
             [
              0.4444444444444444,
              "#bd3786"
             ],
             [
              0.5555555555555556,
              "#d8576b"
             ],
             [
              0.6666666666666666,
              "#ed7953"
             ],
             [
              0.7777777777777778,
              "#fb9f3a"
             ],
             [
              0.8888888888888888,
              "#fdca26"
             ],
             [
              1,
              "#f0f921"
             ]
            ],
            "type": "heatmap"
           }
          ],
          "histogram": [
           {
            "marker": {
             "pattern": {
              "fillmode": "overlay",
              "size": 10,
              "solidity": 0.2
             }
            },
            "type": "histogram"
           }
          ],
          "histogram2d": [
           {
            "colorbar": {
             "outlinewidth": 0,
             "ticks": ""
            },
            "colorscale": [
             [
              0,
              "#0d0887"
             ],
             [
              0.1111111111111111,
              "#46039f"
             ],
             [
              0.2222222222222222,
              "#7201a8"
             ],
             [
              0.3333333333333333,
              "#9c179e"
             ],
             [
              0.4444444444444444,
              "#bd3786"
             ],
             [
              0.5555555555555556,
              "#d8576b"
             ],
             [
              0.6666666666666666,
              "#ed7953"
             ],
             [
              0.7777777777777778,
              "#fb9f3a"
             ],
             [
              0.8888888888888888,
              "#fdca26"
             ],
             [
              1,
              "#f0f921"
             ]
            ],
            "type": "histogram2d"
           }
          ],
          "histogram2dcontour": [
           {
            "colorbar": {
             "outlinewidth": 0,
             "ticks": ""
            },
            "colorscale": [
             [
              0,
              "#0d0887"
             ],
             [
              0.1111111111111111,
              "#46039f"
             ],
             [
              0.2222222222222222,
              "#7201a8"
             ],
             [
              0.3333333333333333,
              "#9c179e"
             ],
             [
              0.4444444444444444,
              "#bd3786"
             ],
             [
              0.5555555555555556,
              "#d8576b"
             ],
             [
              0.6666666666666666,
              "#ed7953"
             ],
             [
              0.7777777777777778,
              "#fb9f3a"
             ],
             [
              0.8888888888888888,
              "#fdca26"
             ],
             [
              1,
              "#f0f921"
             ]
            ],
            "type": "histogram2dcontour"
           }
          ],
          "mesh3d": [
           {
            "colorbar": {
             "outlinewidth": 0,
             "ticks": ""
            },
            "type": "mesh3d"
           }
          ],
          "parcoords": [
           {
            "line": {
             "colorbar": {
              "outlinewidth": 0,
              "ticks": ""
             }
            },
            "type": "parcoords"
           }
          ],
          "pie": [
           {
            "automargin": true,
            "type": "pie"
           }
          ],
          "scatter": [
           {
            "fillpattern": {
             "fillmode": "overlay",
             "size": 10,
             "solidity": 0.2
            },
            "type": "scatter"
           }
          ],
          "scatter3d": [
           {
            "line": {
             "colorbar": {
              "outlinewidth": 0,
              "ticks": ""
             }
            },
            "marker": {
             "colorbar": {
              "outlinewidth": 0,
              "ticks": ""
             }
            },
            "type": "scatter3d"
           }
          ],
          "scattercarpet": [
           {
            "marker": {
             "colorbar": {
              "outlinewidth": 0,
              "ticks": ""
             }
            },
            "type": "scattercarpet"
           }
          ],
          "scattergeo": [
           {
            "marker": {
             "colorbar": {
              "outlinewidth": 0,
              "ticks": ""
             }
            },
            "type": "scattergeo"
           }
          ],
          "scattergl": [
           {
            "marker": {
             "colorbar": {
              "outlinewidth": 0,
              "ticks": ""
             }
            },
            "type": "scattergl"
           }
          ],
          "scattermap": [
           {
            "marker": {
             "colorbar": {
              "outlinewidth": 0,
              "ticks": ""
             }
            },
            "type": "scattermap"
           }
          ],
          "scattermapbox": [
           {
            "marker": {
             "colorbar": {
              "outlinewidth": 0,
              "ticks": ""
             }
            },
            "type": "scattermapbox"
           }
          ],
          "scatterpolar": [
           {
            "marker": {
             "colorbar": {
              "outlinewidth": 0,
              "ticks": ""
             }
            },
            "type": "scatterpolar"
           }
          ],
          "scatterpolargl": [
           {
            "marker": {
             "colorbar": {
              "outlinewidth": 0,
              "ticks": ""
             }
            },
            "type": "scatterpolargl"
           }
          ],
          "scatterternary": [
           {
            "marker": {
             "colorbar": {
              "outlinewidth": 0,
              "ticks": ""
             }
            },
            "type": "scatterternary"
           }
          ],
          "surface": [
           {
            "colorbar": {
             "outlinewidth": 0,
             "ticks": ""
            },
            "colorscale": [
             [
              0,
              "#0d0887"
             ],
             [
              0.1111111111111111,
              "#46039f"
             ],
             [
              0.2222222222222222,
              "#7201a8"
             ],
             [
              0.3333333333333333,
              "#9c179e"
             ],
             [
              0.4444444444444444,
              "#bd3786"
             ],
             [
              0.5555555555555556,
              "#d8576b"
             ],
             [
              0.6666666666666666,
              "#ed7953"
             ],
             [
              0.7777777777777778,
              "#fb9f3a"
             ],
             [
              0.8888888888888888,
              "#fdca26"
             ],
             [
              1,
              "#f0f921"
             ]
            ],
            "type": "surface"
           }
          ],
          "table": [
           {
            "cells": {
             "fill": {
              "color": "#EBF0F8"
             },
             "line": {
              "color": "white"
             }
            },
            "header": {
             "fill": {
              "color": "#C8D4E3"
             },
             "line": {
              "color": "white"
             }
            },
            "type": "table"
           }
          ]
         },
         "layout": {
          "annotationdefaults": {
           "arrowcolor": "#2a3f5f",
           "arrowhead": 0,
           "arrowwidth": 1
          },
          "autotypenumbers": "strict",
          "coloraxis": {
           "colorbar": {
            "outlinewidth": 0,
            "ticks": ""
           }
          },
          "colorscale": {
           "diverging": [
            [
             0,
             "#8e0152"
            ],
            [
             0.1,
             "#c51b7d"
            ],
            [
             0.2,
             "#de77ae"
            ],
            [
             0.3,
             "#f1b6da"
            ],
            [
             0.4,
             "#fde0ef"
            ],
            [
             0.5,
             "#f7f7f7"
            ],
            [
             0.6,
             "#e6f5d0"
            ],
            [
             0.7,
             "#b8e186"
            ],
            [
             0.8,
             "#7fbc41"
            ],
            [
             0.9,
             "#4d9221"
            ],
            [
             1,
             "#276419"
            ]
           ],
           "sequential": [
            [
             0,
             "#0d0887"
            ],
            [
             0.1111111111111111,
             "#46039f"
            ],
            [
             0.2222222222222222,
             "#7201a8"
            ],
            [
             0.3333333333333333,
             "#9c179e"
            ],
            [
             0.4444444444444444,
             "#bd3786"
            ],
            [
             0.5555555555555556,
             "#d8576b"
            ],
            [
             0.6666666666666666,
             "#ed7953"
            ],
            [
             0.7777777777777778,
             "#fb9f3a"
            ],
            [
             0.8888888888888888,
             "#fdca26"
            ],
            [
             1,
             "#f0f921"
            ]
           ],
           "sequentialminus": [
            [
             0,
             "#0d0887"
            ],
            [
             0.1111111111111111,
             "#46039f"
            ],
            [
             0.2222222222222222,
             "#7201a8"
            ],
            [
             0.3333333333333333,
             "#9c179e"
            ],
            [
             0.4444444444444444,
             "#bd3786"
            ],
            [
             0.5555555555555556,
             "#d8576b"
            ],
            [
             0.6666666666666666,
             "#ed7953"
            ],
            [
             0.7777777777777778,
             "#fb9f3a"
            ],
            [
             0.8888888888888888,
             "#fdca26"
            ],
            [
             1,
             "#f0f921"
            ]
           ]
          },
          "colorway": [
           "#636efa",
           "#EF553B",
           "#00cc96",
           "#ab63fa",
           "#FFA15A",
           "#19d3f3",
           "#FF6692",
           "#B6E880",
           "#FF97FF",
           "#FECB52"
          ],
          "font": {
           "color": "#2a3f5f"
          },
          "geo": {
           "bgcolor": "white",
           "lakecolor": "white",
           "landcolor": "white",
           "showlakes": true,
           "showland": true,
           "subunitcolor": "#C8D4E3"
          },
          "hoverlabel": {
           "align": "left"
          },
          "hovermode": "closest",
          "mapbox": {
           "style": "light"
          },
          "paper_bgcolor": "white",
          "plot_bgcolor": "white",
          "polar": {
           "angularaxis": {
            "gridcolor": "#EBF0F8",
            "linecolor": "#EBF0F8",
            "ticks": ""
           },
           "bgcolor": "white",
           "radialaxis": {
            "gridcolor": "#EBF0F8",
            "linecolor": "#EBF0F8",
            "ticks": ""
           }
          },
          "scene": {
           "xaxis": {
            "backgroundcolor": "white",
            "gridcolor": "#DFE8F3",
            "gridwidth": 2,
            "linecolor": "#EBF0F8",
            "showbackground": true,
            "ticks": "",
            "zerolinecolor": "#EBF0F8"
           },
           "yaxis": {
            "backgroundcolor": "white",
            "gridcolor": "#DFE8F3",
            "gridwidth": 2,
            "linecolor": "#EBF0F8",
            "showbackground": true,
            "ticks": "",
            "zerolinecolor": "#EBF0F8"
           },
           "zaxis": {
            "backgroundcolor": "white",
            "gridcolor": "#DFE8F3",
            "gridwidth": 2,
            "linecolor": "#EBF0F8",
            "showbackground": true,
            "ticks": "",
            "zerolinecolor": "#EBF0F8"
           }
          },
          "shapedefaults": {
           "line": {
            "color": "#2a3f5f"
           }
          },
          "ternary": {
           "aaxis": {
            "gridcolor": "#DFE8F3",
            "linecolor": "#A2B1C6",
            "ticks": ""
           },
           "baxis": {
            "gridcolor": "#DFE8F3",
            "linecolor": "#A2B1C6",
            "ticks": ""
           },
           "bgcolor": "white",
           "caxis": {
            "gridcolor": "#DFE8F3",
            "linecolor": "#A2B1C6",
            "ticks": ""
           }
          },
          "title": {
           "x": 0.05
          },
          "xaxis": {
           "automargin": true,
           "gridcolor": "#EBF0F8",
           "linecolor": "#EBF0F8",
           "ticks": "",
           "title": {
            "standoff": 15
           },
           "zerolinecolor": "#EBF0F8",
           "zerolinewidth": 2
          },
          "yaxis": {
           "automargin": true,
           "gridcolor": "#EBF0F8",
           "linecolor": "#EBF0F8",
           "ticks": "",
           "title": {
            "standoff": 15
           },
           "zerolinecolor": "#EBF0F8",
           "zerolinewidth": 2
          }
         }
        },
        "title": {
         "font": {
          "size": 24
         },
         "text": "Correlation Heatmap"
        },
        "width": 1000,
        "xaxis": {
         "anchor": "y",
         "constrain": "domain",
         "domain": [
          0,
          1
         ],
         "scaleanchor": "y"
        },
        "yaxis": {
         "anchor": "x",
         "autorange": "reversed",
         "constrain": "domain",
         "domain": [
          0,
          1
         ]
        }
       }
      },
      "image/png": "[encoded data removed]"
     },
     "metadata": {},
     "output_type": "display_data"
    }
   ],
   "source": [
    "vis_correlation = px.imshow(cred.corr(numeric_only=True),title= \"Correlation Heatmap\",text_auto= \".2f\")\n",
    "\n",
    "vis_correlation.update_layout(\n",
    "    width=1000,  # Increase width\n",
    "    height=800,  # Increase height\n",
    "    title_font=dict(size=24),  # Larger title\n",
    "    margin=dict(l=60, r=60, t=80, b=60))  # Add margins for readability\n",
    "        \n",
    "vis_correlation.show()\n"
   ]
  },
  {
   "cell_type": "markdown",
   "id": "28604d58-02b8-4ca7-b198-cb21f860575f",
   "metadata": {},
   "source": [
    "## Calculating Credit Scores"
   ]
  },
  {
   "cell_type": "markdown",
   "id": "04e4fb5f-d218-447b-968e-d3afa580a7e6",
   "metadata": {},
   "source": [
    "The dataset doesn’t have any feature representing the credit scores of individuals. To calculate the credit scores, we need to use an appropriate technique. There are several widely used techniques for calculating credit scores, each with its own calculation process. One example is the **FICO score**, a commonly used credit scoring model in the industry."
   ]
  },
  {
   "cell_type": "markdown",
   "id": "e0ae474a-7b72-4f31-9fba-5445f529652d",
   "metadata": {},
   "source": [
    "Below is how we can implement the FICO score method to calculate credit scores:"
   ]
  },
  {
   "cell_type": "code",
   "execution_count": 7,
   "id": "a4993ce1-c6f4-4c9f-9ba9-278ad43e3135",
   "metadata": {},
   "outputs": [
    {
     "data": {
      "text/html": [
       "<div>\n",
       "<style scoped>\n",
       "    .dataframe tbody tr th:only-of-type {\n",
       "        vertical-align: middle;\n",
       "    }\n",
       "\n",
       "    .dataframe tbody tr th {\n",
       "        vertical-align: top;\n",
       "    }\n",
       "\n",
       "    .dataframe thead th {\n",
       "        text-align: right;\n",
       "    }\n",
       "</style>\n",
       "<table border=\"1\" class=\"dataframe\">\n",
       "  <thead>\n",
       "    <tr style=\"text-align: right;\">\n",
       "      <th></th>\n",
       "      <th>Age</th>\n",
       "      <th>Gender</th>\n",
       "      <th>Marital Status</th>\n",
       "      <th>Education Level</th>\n",
       "      <th>Employment Status</th>\n",
       "      <th>Credit Utilization Ratio</th>\n",
       "      <th>Payment History</th>\n",
       "      <th>Number of Credit Accounts</th>\n",
       "      <th>Loan Amount</th>\n",
       "      <th>Interest Rate</th>\n",
       "      <th>Loan Term</th>\n",
       "      <th>Type of Loan</th>\n",
       "      <th>Credit Score</th>\n",
       "    </tr>\n",
       "  </thead>\n",
       "  <tbody>\n",
       "    <tr>\n",
       "      <th>0</th>\n",
       "      <td>60</td>\n",
       "      <td>Male</td>\n",
       "      <td>Married</td>\n",
       "      <td>3</td>\n",
       "      <td>1</td>\n",
       "      <td>0.22</td>\n",
       "      <td>2685.0</td>\n",
       "      <td>2</td>\n",
       "      <td>4675000</td>\n",
       "      <td>2.65</td>\n",
       "      <td>48</td>\n",
       "      <td>Personal Loan</td>\n",
       "      <td>940.516</td>\n",
       "    </tr>\n",
       "    <tr>\n",
       "      <th>1</th>\n",
       "      <td>25</td>\n",
       "      <td>Male</td>\n",
       "      <td>Married</td>\n",
       "      <td>1</td>\n",
       "      <td>0</td>\n",
       "      <td>0.20</td>\n",
       "      <td>2371.0</td>\n",
       "      <td>9</td>\n",
       "      <td>3619000</td>\n",
       "      <td>5.19</td>\n",
       "      <td>60</td>\n",
       "      <td>Auto Loan</td>\n",
       "      <td>831.360</td>\n",
       "    </tr>\n",
       "    <tr>\n",
       "      <th>2</th>\n",
       "      <td>30</td>\n",
       "      <td>Female</td>\n",
       "      <td>Single</td>\n",
       "      <td>3</td>\n",
       "      <td>1</td>\n",
       "      <td>0.22</td>\n",
       "      <td>2771.0</td>\n",
       "      <td>6</td>\n",
       "      <td>957000</td>\n",
       "      <td>2.76</td>\n",
       "      <td>12</td>\n",
       "      <td>Auto Loan</td>\n",
       "      <td>971.216</td>\n",
       "    </tr>\n",
       "    <tr>\n",
       "      <th>3</th>\n",
       "      <td>58</td>\n",
       "      <td>Female</td>\n",
       "      <td>Married</td>\n",
       "      <td>4</td>\n",
       "      <td>0</td>\n",
       "      <td>0.12</td>\n",
       "      <td>1371.0</td>\n",
       "      <td>2</td>\n",
       "      <td>4731000</td>\n",
       "      <td>6.57</td>\n",
       "      <td>60</td>\n",
       "      <td>Auto Loan</td>\n",
       "      <td>480.586</td>\n",
       "    </tr>\n",
       "    <tr>\n",
       "      <th>4</th>\n",
       "      <td>32</td>\n",
       "      <td>Male</td>\n",
       "      <td>Married</td>\n",
       "      <td>2</td>\n",
       "      <td>2</td>\n",
       "      <td>0.99</td>\n",
       "      <td>828.0</td>\n",
       "      <td>2</td>\n",
       "      <td>3289000</td>\n",
       "      <td>6.28</td>\n",
       "      <td>36</td>\n",
       "      <td>Personal Loan</td>\n",
       "      <td>290.797</td>\n",
       "    </tr>\n",
       "  </tbody>\n",
       "</table>\n",
       "</div>"
      ],
      "text/plain": [
       "   Age  Gender Marital Status  Education Level  Employment Status  \\\n",
       "0   60    Male        Married                3                  1   \n",
       "1   25    Male        Married                1                  0   \n",
       "2   30  Female         Single                3                  1   \n",
       "3   58  Female        Married                4                  0   \n",
       "4   32    Male        Married                2                  2   \n",
       "\n",
       "   Credit Utilization Ratio  Payment History  Number of Credit Accounts  \\\n",
       "0                      0.22           2685.0                          2   \n",
       "1                      0.20           2371.0                          9   \n",
       "2                      0.22           2771.0                          6   \n",
       "3                      0.12           1371.0                          2   \n",
       "4                      0.99            828.0                          2   \n",
       "\n",
       "   Loan Amount  Interest Rate  Loan Term   Type of Loan  Credit Score  \n",
       "0      4675000           2.65         48  Personal Loan       940.516  \n",
       "1      3619000           5.19         60      Auto Loan       831.360  \n",
       "2       957000           2.76         12      Auto Loan       971.216  \n",
       "3      4731000           6.57         60      Auto Loan       480.586  \n",
       "4      3289000           6.28         36  Personal Loan       290.797  "
      ]
     },
     "execution_count": 7,
     "metadata": {},
     "output_type": "execute_result"
    }
   ],
   "source": [
    "#Define the mapping for categorical features\n",
    "education_level_mapping = {\"High School\": 1 , \"Bachelor\":2 , \"Master\": 3 ,\"PhD\" : 4}\n",
    "employment_status_mapping = {\"Unemployed\": 0 , \"Employed\":1 , \"Self-Employed\": 2}\n",
    "\n",
    "#Apply  Mapping  to Categorical features\n",
    "cred[\"Education Level\"] = cred[\"Education Level\"].map(education_level_mapping)\n",
    "cred[\"Employment Status\"] = cred[\"Employment Status\"].map(employment_status_mapping)\n",
    "\n",
    "#Calculate credit Score using the complete FICO Formula\n",
    "credit_scores = []\n",
    "\n",
    "for index ,row in cred.iterrows():\n",
    "    payment_history = row[\"Payment History\"]\n",
    "    credit_utilization_ratio = row[\"Credit Utilization Ratio\"]\n",
    "    number_of_credit_accounts = row[\"Number of Credit Accounts\"]\n",
    "    education_level = row[\"Education Level\"]\n",
    "    employment_status = row[\"Employment Status\"]\n",
    "\n",
    "    #Apply the FICO formula to calculate the credit score\n",
    "    credit_score = (payment_history * 0.35) + (credit_utilization_ratio * 0.30) + (number_of_credit_accounts * 0.15) + (education_level * 0.10) + (employment_status * 0.10)\n",
    "    credit_scores.append(credit_score)\n",
    "\n",
    "#Add the credit Score as a new column to the DataFrame\n",
    "cred[\"Credit Score\"] = credit_scores\n",
    "\n",
    "cred.head()"
   ]
  },
  {
   "cell_type": "markdown",
   "id": "051416a0-6b99-49d2-b55a-4b03ac185dab",
   "metadata": {},
   "source": [
    "Below is how the above code works:"
   ]
  },
  {
   "cell_type": "markdown",
   "id": "3b597c19-4887-46c4-85b0-11f920ce9e97",
   "metadata": {},
   "source": [
    "* Firstly, it defines mappings for two categorical features: “Education Level” and “Employment Status”. The “Education Level” mapping assigns numerical values to different levels of education, such as “High School” being mapped to 1, “Bachelor” to 2, “Master” to 3, and “PhD” to 4. The “Employment Status” mapping assigns numerical values to different employment statuses, such as “Unemployed” being mapped to 0, “Employed” to 1, and “Self-Employed” to 2.\n",
    "* Next, the code applies the defined mappings to the corresponding columns in the DataFrame. It transforms the values of the “Education Level” and “Employment Status” columns from their original categorical form to the mapped numerical representations.\n",
    "* After that, the code initiates an iteration over each row of the DataFrame to calculate the credit scores for each individual. It retrieves the values of relevant features, such as “Payment History”, “Credit Utilization Ratio”, “Number of Credit Accounts”, “Education Level”, and “Employment Status”, from each row."
   ]
  },
  {
   "cell_type": "markdown",
   "id": "0c32c607-6254-4f17-a089-208970f1531f",
   "metadata": {},
   "source": [
    "Within the iteration, the FICO formula is applied to calculate the credit score for each individual. The formula incorporates the weighted values of the features mentioned earlier: "
   ]
  },
  {
   "cell_type": "markdown",
   "id": "16ce41d2-62da-4905-9e39-d10c90ebe916",
   "metadata": {},
   "source": [
    "* **35%** weight for “Payment History”, \n",
    "* **30%** weight for “Credit Utilization Ratio”, \n",
    "* **15%** weight for “Number of Credit Accounts”, \n",
    "* **10%** weight for “Education Level”, \n",
    "* **and 10%** weight for “Employment Status”. "
   ]
  },
  {
   "cell_type": "markdown",
   "id": "fc776633-ef5f-402f-b761-7bfbd6e93062",
   "metadata": {},
   "source": [
    "The calculated credit score is then stored in a list called **“credit_scores”.**"
   ]
  },
  {
   "cell_type": "markdown",
   "id": "d3ef3af7-178c-46a4-8884-4027e229b837",
   "metadata": {},
   "source": [
    "## Segmentation Based on Credit Scores"
   ]
  },
  {
   "cell_type": "markdown",
   "id": "dfd59b1c-c9fd-46a2-b7f4-e900cd08a60b",
   "metadata": {},
   "source": [
    "Now, let’s use the KMeans clustering algorithm to segment customers based on their credit scores:"
   ]
  },
  {
   "cell_type": "code",
   "execution_count": 8,
   "id": "994d804c-45a3-4cad-92df-70cef35df056",
   "metadata": {},
   "outputs": [],
   "source": [
    "from sklearn.cluster import KMeans\n",
    "\n",
    "X = cred[[\"Credit Score\"]]\n",
    "kmeans = KMeans(n_clusters = 4 , n_init = 10 , random_state = 42)\n",
    "kmeans.fit(X)\n",
    "cred[\"Segment\"] = kmeans.labels_"
   ]
  },
  {
   "cell_type": "markdown",
   "id": "9da05a7d-4836-4c05-9731-892c459a0b65",
   "metadata": {},
   "source": [
    "Now let’s have a look at the segments:"
   ]
  },
  {
   "cell_type": "code",
   "execution_count": 9,
   "id": "794401b9-5fa2-434c-99dc-57e507cc484d",
   "metadata": {},
   "outputs": [],
   "source": [
    "## Convert the \"Segment\" column to category data type\n",
    "cred[\"Segment\"] = cred[\"Segment\"].astype(\"category\")"
   ]
  },
  {
   "cell_type": "code",
   "execution_count": 11,
   "id": "0e486626-b09d-4925-becf-27dc31412ab7",
   "metadata": {},
   "outputs": [
    {
     "data": {
      "application/vnd.plotly.v1+json": {
       "config": {
        "plotlyServerURL": "https://plot.ly"
       },
       "data": [
        {
         "hovertemplate": "Segment=3<br>index=%{x}<br>Credit Score=%{y}<extra></extra>",
         "legendgroup": "3",
         "marker": {
          "color": "green",
          "symbol": "circle"
         },
         "mode": "markers",
         "name": "3",
         "orientation": "v",
         "showlegend": true,
         "type": "scatter",
         "x": {
          "bdata": "AAABAAIABQAGAA4AGgApADAAPAA/AEAAQwBIAEkASgBLAE8AYQBnAGgAbAB1AHYAfQCBAIcAjACQAJMAlACVAJkAmgCcAKkAqwCtAK8AsgDAAMgAywDVANwA3QDgAOkA8ADyAPcA+QD6AP0A/wAIARYBHAEeASABJAEqASwBLgE0ATcBOQE6ATwBPQFCAUgBTAFUAVUBWQFeAV8BYAFjAWQBZQFmAWoBbAFtAXQBdQF6AXwBfwGKAY4BlwGZAaABogGkAaoBrAGxAbcBvAG/AcMBygHQAdMB1AHWAd0B4QHkAegB6wHsAe4B8AH4AfoB+wH8AQECDgIRAhUCGgIfAiACIQIiAiMCJAIlAicCKAIpAisCMAIzAjQCNgI4AkcCSwJNAlICVgJcAmACZAJmAmsCbAJuAnICfQJ/AoAClQKbAp0CqQKxArICtwK5ArsCvQK+AtEC0gLaAuEC6ALqAu0C8ALxAvMC9AL7Av0C/gIBAwYDDgMUAxcDIQMiAyYDJwMsAy0DMwM1AzYDNwNKA04DVwNYA1oDWwNcA2UDagNrA3ADfwOCA4MDhQORA5kDngOrA6wDsQO0A7UDvQPKA8wD2QPbA98D4APlAw==",
          "dtype": "i2"
         },
         "xaxis": "x",
         "y": {
          "bdata": "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",
          "dtype": "f8"
         },
         "yaxis": "y"
        },
        {
         "hovertemplate": "Segment=0<br>index=%{x}<br>Credit Score=%{y}<extra></extra>",
         "legendgroup": "0",
         "marker": {
          "color": "blue",
          "symbol": "circle"
         },
         "mode": "markers",
         "name": "0",
         "orientation": "v",
         "showlegend": true,
         "type": "scatter",
         "x": {
          "bdata": "AwAEAAcACAAJAAwAEAAUABUAGAAiACQAJQAsADEAMwA0ADYANwA6ADsARABSAFQAVgBXAFgAWQBaAFsAXABfAGUAawBzAHQAeAB7AIQAhgCJAI0AjwCRAJIAnQCgAKEAowClAKoAsAC0ALYAvwDQANcA2QDaAOIA5QDmAO0A8QD2APsAAQEDAQQBBwEMAQ0BDgEPARcBHwEhASMBJQEoAS0BLwExATUBOwFAAUMBSQFKAU0BTgFQAVIBVwFdAWEBYgFnAWgBcAFzAXgBeQGBAYQBhwGJAY8BkwGUAZUBlgGYAZsBnwGhAa0BrgGwAbIBuwG+AcIByAHLAcwB1QHXAdsB3gHgAeIB5QHnAfEB8wH0AQICAwIEAgYCBwIIAgoCDwIQAhICFAIXAhkCGwIqAjECMgI1AjcCOgI9Aj4CSAJMAk4CUQJXAlgCWQJaAlsCXQJfAmECYgJnAmoCdQJ2AngCfgKQApMCpgKnAq4CtQK2ArgCvALBAssCzgLTAtQC1QLWAtcC2ALbAuAC5ALlAuYC6QLsAu4C7wLyAvUC+gICAwMDBAMHAw0DFQMZAygDKQMqAzADMgM5AzoDOwM8A0ADRgNNA08DUgNUA1YDXQNeA18DYQNmA2kDbgN1A3kDfAOAA4YDigOLA44DjwOVA5YDlwObA50DowOkA6YDrQOvA7MDtgO4A7oDwQPDA8cDywPRA9ID0wPVA9cD3QPjA+YD5wM=",
          "dtype": "i2"
         },
         "xaxis": "x",
         "y": {
          "bdata": "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",
          "dtype": "f8"
         },
         "yaxis": "y"
        },
        {
         "hovertemplate": "Segment=2<br>index=%{x}<br>Credit Score=%{y}<extra></extra>",
         "legendgroup": "2",
         "marker": {
          "color": "yellow",
          "symbol": "circle"
         },
         "mode": "markers",
         "name": "2",
         "orientation": "v",
         "showlegend": true,
         "type": "scatter",
         "x": {
          "bdata": "CgALABIAGwAcAB4AHwAhAC4ALwAyADUAOAA5AD0AQQBMAE0ATgBVAF0AYABiAGMAaQBtAG4AcABxAHIAegB+AIAAiACOAJcAmACeAKYAqACsAK4AswC4ALsAvADCAMQAygDMAM0A0gDWANgA2wDeAOMA6ADuAO8A9QD4APwA/gAAAQIBBQEKAQsBEAERARMBFAEaARsBIgEpASsBPgE/AUQBRwFRAVMBWAFbAVwBaQFuAW8BcQFyAXcBewF+AYABhQGGAZABmgGdAZ4BpgGoAakBqwGzAbQBtQG2AcABwQHEAcUBxgHHAckBzgHPAdEB2AHcAeYB7QHvAfYB+QH/AQACCQILAgwCDQITAhYCHAIdAh4CJgIuAj8CQgJGAkkCSgJQAlMCVQJlAm0CcAJxAnMCdAJ3AnoCewJ8AoUCigKNApIClgKaAp4CoQKiAqgCqgKvArMCwALCAsMCxQLGAsoCzALPAtAC2QLcAt0C4wLnAusC9gL3AvwC/wIFAwgDCQMKAw8DEAMbAx0DIAMlAysDLgMxAzQDOAM+A0MDRQNHA0wDUANRA1kDYANiA2MDZwNsA20DbwN0A3cDgQOEA4gDiQOMA5IDkwOcA58DoQOiA6cDqAOpA7IDtwO8A78DxAPFA8kDzQPOA88D1gPaA94D4QM=",
          "dtype": "i2"
         },
         "xaxis": "x",
         "y": {
          "bdata": "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",
          "dtype": "f8"
         },
         "yaxis": "y"
        },
        {
         "hovertemplate": "Segment=1<br>index=%{x}<br>Credit Score=%{y}<extra></extra>",
         "legendgroup": "1",
         "marker": {
          "color": "red",
          "symbol": "circle"
         },
         "mode": "markers",
         "name": "1",
         "orientation": "v",
         "showlegend": true,
         "type": "scatter",
         "x": {
          "bdata": "DQAPABEAEwAWABcAGQAdACAAIwAmACcAKAAqACsALQA+AEIARQBGAEcAUABRAFMAXgBkAGYAagBvAHcAeQB8AH8AggCDAIUAigCLAJYAmwCfAKIApACnALEAtQC3ALkAugC9AL4AwQDDAMUAxgDHAMkAzgDPANEA0wDUAN8A4QDkAOcA6gDrAOwA8wD0AAYBCQESARUBGAEZAR0BJgEnATABMgEzATYBOAFBAUUBRgFLAU8BVgFaAWsBdgF9AYIBgwGIAYsBjAGNAZEBkgGcAaMBpQGnAa8BuAG5AboBvQHNAdIB2QHaAd8B4wHpAeoB8gH1AfcB/QH+AQUCGAIsAi0CLwI5AjsCPAJAAkECQwJEAkUCTwJUAl4CYwJoAmkCbwJ5AoECggKDAoQChgKHAogCiQKLAowCjgKPApEClAKXApgCmQKcAp8CoAKjAqQCpQKrAqwCrQKwArQCugK/AsQCxwLIAskCzQLeAt8C4gL4AvkCAAMLAwwDEQMSAxMDFgMYAxoDHAMeAx8DIwMkAy8DPQM/A0EDQgNEA0gDSQNLA1MDVQNkA2gDcQNyA3MDdgN4A3oDewN9A34DhwONA5ADlAOYA5oDoAOlA6oDrgOwA7kDuwO+A8ADwgPGA8gD0APUA9gD3APiA+QD",
          "dtype": "i2"
         },
         "xaxis": "x",
         "y": {
          "bdata": "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",
          "dtype": "f8"
         },
         "yaxis": "y"
        }
       ],
       "layout": {
        "legend": {
         "title": {
          "text": "Segment"
         },
         "tracegroupgap": 0
        },
        "margin": {
         "t": 60
        },
        "template": {
         "data": {
          "bar": [
           {
            "error_x": {
             "color": "#2a3f5f"
            },
            "error_y": {
             "color": "#2a3f5f"
            },
            "marker": {
             "line": {
              "color": "white",
              "width": 0.5
             },
             "pattern": {
              "fillmode": "overlay",
              "size": 10,
              "solidity": 0.2
             }
            },
            "type": "bar"
           }
          ],
          "barpolar": [
           {
            "marker": {
             "line": {
              "color": "white",
              "width": 0.5
             },
             "pattern": {
              "fillmode": "overlay",
              "size": 10,
              "solidity": 0.2
             }
            },
            "type": "barpolar"
           }
          ],
          "carpet": [
           {
            "aaxis": {
             "endlinecolor": "#2a3f5f",
             "gridcolor": "#C8D4E3",
             "linecolor": "#C8D4E3",
             "minorgridcolor": "#C8D4E3",
             "startlinecolor": "#2a3f5f"
            },
            "baxis": {
             "endlinecolor": "#2a3f5f",
             "gridcolor": "#C8D4E3",
             "linecolor": "#C8D4E3",
             "minorgridcolor": "#C8D4E3",
             "startlinecolor": "#2a3f5f"
            },
            "type": "carpet"
           }
          ],
          "choropleth": [
           {
            "colorbar": {
             "outlinewidth": 0,
             "ticks": ""
            },
            "type": "choropleth"
           }
          ],
          "contour": [
           {
            "colorbar": {
             "outlinewidth": 0,
             "ticks": ""
            },
            "colorscale": [
             [
              0,
              "#0d0887"
             ],
             [
              0.1111111111111111,
              "#46039f"
             ],
             [
              0.2222222222222222,
              "#7201a8"
             ],
             [
              0.3333333333333333,
              "#9c179e"
             ],
             [
              0.4444444444444444,
              "#bd3786"
             ],
             [
              0.5555555555555556,
              "#d8576b"
             ],
             [
              0.6666666666666666,
              "#ed7953"
             ],
             [
              0.7777777777777778,
              "#fb9f3a"
             ],
             [
              0.8888888888888888,
              "#fdca26"
             ],
             [
              1,
              "#f0f921"
             ]
            ],
            "type": "contour"
           }
          ],
          "contourcarpet": [
           {
            "colorbar": {
             "outlinewidth": 0,
             "ticks": ""
            },
            "type": "contourcarpet"
           }
          ],
          "heatmap": [
           {
            "colorbar": {
             "outlinewidth": 0,
             "ticks": ""
            },
            "colorscale": [
             [
              0,
              "#0d0887"
             ],
             [
              0.1111111111111111,
              "#46039f"
             ],
             [
              0.2222222222222222,
              "#7201a8"
             ],
             [
              0.3333333333333333,
              "#9c179e"
             ],
             [
              0.4444444444444444,
              "#bd3786"
             ],
             [
              0.5555555555555556,
              "#d8576b"
             ],
             [
              0.6666666666666666,
              "#ed7953"
             ],
             [
              0.7777777777777778,
              "#fb9f3a"
             ],
             [
              0.8888888888888888,
              "#fdca26"
             ],
             [
              1,
              "#f0f921"
             ]
            ],
            "type": "heatmap"
           }
          ],
          "histogram": [
           {
            "marker": {
             "pattern": {
              "fillmode": "overlay",
              "size": 10,
              "solidity": 0.2
             }
            },
            "type": "histogram"
           }
          ],
          "histogram2d": [
           {
            "colorbar": {
             "outlinewidth": 0,
             "ticks": ""
            },
            "colorscale": [
             [
              0,
              "#0d0887"
             ],
             [
              0.1111111111111111,
              "#46039f"
             ],
             [
              0.2222222222222222,
              "#7201a8"
             ],
             [
              0.3333333333333333,
              "#9c179e"
             ],
             [
              0.4444444444444444,
              "#bd3786"
             ],
             [
              0.5555555555555556,
              "#d8576b"
             ],
             [
              0.6666666666666666,
              "#ed7953"
             ],
             [
              0.7777777777777778,
              "#fb9f3a"
             ],
             [
              0.8888888888888888,
              "#fdca26"
             ],
             [
              1,
              "#f0f921"
             ]
            ],
            "type": "histogram2d"
           }
          ],
          "histogram2dcontour": [
           {
            "colorbar": {
             "outlinewidth": 0,
             "ticks": ""
            },
            "colorscale": [
             [
              0,
              "#0d0887"
             ],
             [
              0.1111111111111111,
              "#46039f"
             ],
             [
              0.2222222222222222,
              "#7201a8"
             ],
             [
              0.3333333333333333,
              "#9c179e"
             ],
             [
              0.4444444444444444,
              "#bd3786"
             ],
             [
              0.5555555555555556,
              "#d8576b"
             ],
             [
              0.6666666666666666,
              "#ed7953"
             ],
             [
              0.7777777777777778,
              "#fb9f3a"
             ],
             [
              0.8888888888888888,
              "#fdca26"
             ],
             [
              1,
              "#f0f921"
             ]
            ],
            "type": "histogram2dcontour"
           }
          ],
          "mesh3d": [
           {
            "colorbar": {
             "outlinewidth": 0,
             "ticks": ""
            },
            "type": "mesh3d"
           }
          ],
          "parcoords": [
           {
            "line": {
             "colorbar": {
              "outlinewidth": 0,
              "ticks": ""
             }
            },
            "type": "parcoords"
           }
          ],
          "pie": [
           {
            "automargin": true,
            "type": "pie"
           }
          ],
          "scatter": [
           {
            "fillpattern": {
             "fillmode": "overlay",
             "size": 10,
             "solidity": 0.2
            },
            "type": "scatter"
           }
          ],
          "scatter3d": [
           {
            "line": {
             "colorbar": {
              "outlinewidth": 0,
              "ticks": ""
             }
            },
            "marker": {
             "colorbar": {
              "outlinewidth": 0,
              "ticks": ""
             }
            },
            "type": "scatter3d"
           }
          ],
          "scattercarpet": [
           {
            "marker": {
             "colorbar": {
              "outlinewidth": 0,
              "ticks": ""
             }
            },
            "type": "scattercarpet"
           }
          ],
          "scattergeo": [
           {
            "marker": {
             "colorbar": {
              "outlinewidth": 0,
              "ticks": ""
             }
            },
            "type": "scattergeo"
           }
          ],
          "scattergl": [
           {
            "marker": {
             "colorbar": {
              "outlinewidth": 0,
              "ticks": ""
             }
            },
            "type": "scattergl"
           }
          ],
          "scattermap": [
           {
            "marker": {
             "colorbar": {
              "outlinewidth": 0,
              "ticks": ""
             }
            },
            "type": "scattermap"
           }
          ],
          "scattermapbox": [
           {
            "marker": {
             "colorbar": {
              "outlinewidth": 0,
              "ticks": ""
             }
            },
            "type": "scattermapbox"
           }
          ],
          "scatterpolar": [
           {
            "marker": {
             "colorbar": {
              "outlinewidth": 0,
              "ticks": ""
             }
            },
            "type": "scatterpolar"
           }
          ],
          "scatterpolargl": [
           {
            "marker": {
             "colorbar": {
              "outlinewidth": 0,
              "ticks": ""
             }
            },
            "type": "scatterpolargl"
           }
          ],
          "scatterternary": [
           {
            "marker": {
             "colorbar": {
              "outlinewidth": 0,
              "ticks": ""
             }
            },
            "type": "scatterternary"
           }
          ],
          "surface": [
           {
            "colorbar": {
             "outlinewidth": 0,
             "ticks": ""
            },
            "colorscale": [
             [
              0,
              "#0d0887"
             ],
             [
              0.1111111111111111,
              "#46039f"
             ],
             [
              0.2222222222222222,
              "#7201a8"
             ],
             [
              0.3333333333333333,
              "#9c179e"
             ],
             [
              0.4444444444444444,
              "#bd3786"
             ],
             [
              0.5555555555555556,
              "#d8576b"
             ],
             [
              0.6666666666666666,
              "#ed7953"
             ],
             [
              0.7777777777777778,
              "#fb9f3a"
             ],
             [
              0.8888888888888888,
              "#fdca26"
             ],
             [
              1,
              "#f0f921"
             ]
            ],
            "type": "surface"
           }
          ],
          "table": [
           {
            "cells": {
             "fill": {
              "color": "#EBF0F8"
             },
             "line": {
              "color": "white"
             }
            },
            "header": {
             "fill": {
              "color": "#C8D4E3"
             },
             "line": {
              "color": "white"
             }
            },
            "type": "table"
           }
          ]
         },
         "layout": {
          "annotationdefaults": {
           "arrowcolor": "#2a3f5f",
           "arrowhead": 0,
           "arrowwidth": 1
          },
          "autotypenumbers": "strict",
          "coloraxis": {
           "colorbar": {
            "outlinewidth": 0,
            "ticks": ""
           }
          },
          "colorscale": {
           "diverging": [
            [
             0,
             "#8e0152"
            ],
            [
             0.1,
             "#c51b7d"
            ],
            [
             0.2,
             "#de77ae"
            ],
            [
             0.3,
             "#f1b6da"
            ],
            [
             0.4,
             "#fde0ef"
            ],
            [
             0.5,
             "#f7f7f7"
            ],
            [
             0.6,
             "#e6f5d0"
            ],
            [
             0.7,
             "#b8e186"
            ],
            [
             0.8,
             "#7fbc41"
            ],
            [
             0.9,
             "#4d9221"
            ],
            [
             1,
             "#276419"
            ]
           ],
           "sequential": [
            [
             0,
             "#0d0887"
            ],
            [
             0.1111111111111111,
             "#46039f"
            ],
            [
             0.2222222222222222,
             "#7201a8"
            ],
            [
             0.3333333333333333,
             "#9c179e"
            ],
            [
             0.4444444444444444,
             "#bd3786"
            ],
            [
             0.5555555555555556,
             "#d8576b"
            ],
            [
             0.6666666666666666,
             "#ed7953"
            ],
            [
             0.7777777777777778,
             "#fb9f3a"
            ],
            [
             0.8888888888888888,
             "#fdca26"
            ],
            [
             1,
             "#f0f921"
            ]
           ],
           "sequentialminus": [
            [
             0,
             "#0d0887"
            ],
            [
             0.1111111111111111,
             "#46039f"
            ],
            [
             0.2222222222222222,
             "#7201a8"
            ],
            [
             0.3333333333333333,
             "#9c179e"
            ],
            [
             0.4444444444444444,
             "#bd3786"
            ],
            [
             0.5555555555555556,
             "#d8576b"
            ],
            [
             0.6666666666666666,
             "#ed7953"
            ],
            [
             0.7777777777777778,
             "#fb9f3a"
            ],
            [
             0.8888888888888888,
             "#fdca26"
            ],
            [
             1,
             "#f0f921"
            ]
           ]
          },
          "colorway": [
           "#636efa",
           "#EF553B",
           "#00cc96",
           "#ab63fa",
           "#FFA15A",
           "#19d3f3",
           "#FF6692",
           "#B6E880",
           "#FF97FF",
           "#FECB52"
          ],
          "font": {
           "color": "#2a3f5f"
          },
          "geo": {
           "bgcolor": "white",
           "lakecolor": "white",
           "landcolor": "white",
           "showlakes": true,
           "showland": true,
           "subunitcolor": "#C8D4E3"
          },
          "hoverlabel": {
           "align": "left"
          },
          "hovermode": "closest",
          "mapbox": {
           "style": "light"
          },
          "paper_bgcolor": "white",
          "plot_bgcolor": "white",
          "polar": {
           "angularaxis": {
            "gridcolor": "#EBF0F8",
            "linecolor": "#EBF0F8",
            "ticks": ""
           },
           "bgcolor": "white",
           "radialaxis": {
            "gridcolor": "#EBF0F8",
            "linecolor": "#EBF0F8",
            "ticks": ""
           }
          },
          "scene": {
           "xaxis": {
            "backgroundcolor": "white",
            "gridcolor": "#DFE8F3",
            "gridwidth": 2,
            "linecolor": "#EBF0F8",
            "showbackground": true,
            "ticks": "",
            "zerolinecolor": "#EBF0F8"
           },
           "yaxis": {
            "backgroundcolor": "white",
            "gridcolor": "#DFE8F3",
            "gridwidth": 2,
            "linecolor": "#EBF0F8",
            "showbackground": true,
            "ticks": "",
            "zerolinecolor": "#EBF0F8"
           },
           "zaxis": {
            "backgroundcolor": "white",
            "gridcolor": "#DFE8F3",
            "gridwidth": 2,
            "linecolor": "#EBF0F8",
            "showbackground": true,
            "ticks": "",
            "zerolinecolor": "#EBF0F8"
           }
          },
          "shapedefaults": {
           "line": {
            "color": "#2a3f5f"
           }
          },
          "ternary": {
           "aaxis": {
            "gridcolor": "#DFE8F3",
            "linecolor": "#A2B1C6",
            "ticks": ""
           },
           "baxis": {
            "gridcolor": "#DFE8F3",
            "linecolor": "#A2B1C6",
            "ticks": ""
           },
           "bgcolor": "white",
           "caxis": {
            "gridcolor": "#DFE8F3",
            "linecolor": "#A2B1C6",
            "ticks": ""
           }
          },
          "title": {
           "x": 0.05
          },
          "xaxis": {
           "automargin": true,
           "gridcolor": "#EBF0F8",
           "linecolor": "#EBF0F8",
           "ticks": "",
           "title": {
            "standoff": 15
           },
           "zerolinecolor": "#EBF0F8",
           "zerolinewidth": 2
          },
          "yaxis": {
           "automargin": true,
           "gridcolor": "#EBF0F8",
           "linecolor": "#EBF0F8",
           "ticks": "",
           "title": {
            "standoff": 15
           },
           "zerolinecolor": "#EBF0F8",
           "zerolinewidth": 2
          }
         }
        },
        "title": {
         "text": "Customer Segmentation based on Credit Scores"
        },
        "xaxis": {
         "anchor": "y",
         "domain": [
          0,
          1
         ],
         "title": {
          "text": "Customer Index"
         }
        },
        "yaxis": {
         "anchor": "x",
         "domain": [
          0,
          1
         ],
         "title": {
          "text": "Credit Score"
         }
        }
       }
      },
      "image/png": "[encoded data removed]"
     },
     "metadata": {},
     "output_type": "display_data"
    }
   ],
   "source": [
    "#Visualize the Segment using plotly\n",
    "fig_segment = px.scatter(cred, x = cred.index , y = \"Credit Score\", color= \"Segment\",\n",
    "                        color_discrete_sequence= [\"green\", \"blue\" , \"yellow\" , \"red\"])\n",
    "\n",
    "fig_segment.update_layout(\n",
    "                    xaxis_title = \"Customer Index\",\n",
    "                    yaxis_title = \"Credit Score\",\n",
    "                    title = \"Customer Segmentation based on Credit Scores\"\n",
    "                        )\n",
    "\n",
    "fig_segment.show()"
   ]
  },
  {
   "cell_type": "markdown",
   "id": "1734da56-480c-42ff-a3d4-2e1a5c5ae7ca",
   "metadata": {},
   "source": [
    "Now let’s name the segments based on the above clusters and have a look at the segments again:"
   ]
  },
  {
   "cell_type": "code",
   "execution_count": 12,
   "id": "1eddf323-0d5f-41e5-bb8d-86918110c92f",
   "metadata": {},
   "outputs": [
    {
     "data": {
      "application/vnd.plotly.v1+json": {
       "config": {
        "plotlyServerURL": "https://plot.ly"
       },
       "data": [
        {
         "hovertemplate": "Segment=Excellent<br>index=%{x}<br>Credit Score=%{y}<extra></extra>",
         "legendgroup": "Excellent",
         "marker": {
          "color": "green",
          "symbol": "circle"
         },
         "mode": "markers",
         "name": "Excellent",
         "orientation": "v",
         "showlegend": true,
         "type": "scatter",
         "x": {
          "bdata": "AAABAAIABQAGAA4AGgApADAAPAA/AEAAQwBIAEkASgBLAE8AYQBnAGgAbAB1AHYAfQCBAIcAjACQAJMAlACVAJkAmgCcAKkAqwCtAK8AsgDAAMgAywDVANwA3QDgAOkA8ADyAPcA+QD6AP0A/wAIARYBHAEeASABJAEqASwBLgE0ATcBOQE6ATwBPQFCAUgBTAFUAVUBWQFeAV8BYAFjAWQBZQFmAWoBbAFtAXQBdQF6AXwBfwGKAY4BlwGZAaABogGkAaoBrAGxAbcBvAG/AcMBygHQAdMB1AHWAd0B4QHkAegB6wHsAe4B8AH4AfoB+wH8AQECDgIRAhUCGgIfAiACIQIiAiMCJAIlAicCKAIpAisCMAIzAjQCNgI4AkcCSwJNAlICVgJcAmACZAJmAmsCbAJuAnICfQJ/AoAClQKbAp0CqQKxArICtwK5ArsCvQK+AtEC0gLaAuEC6ALqAu0C8ALxAvMC9AL7Av0C/gIBAwYDDgMUAxcDIQMiAyYDJwMsAy0DMwM1AzYDNwNKA04DVwNYA1oDWwNcA2UDagNrA3ADfwOCA4MDhQORA5kDngOrA6wDsQO0A7UDvQPKA8wD2QPbA98D4APlAw==",
          "dtype": "i2"
         },
         "xaxis": "x",
         "y": {
          "bdata": "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",
          "dtype": "f8"
         },
         "yaxis": "y"
        },
        {
         "hovertemplate": "Segment=Low<br>index=%{x}<br>Credit Score=%{y}<extra></extra>",
         "legendgroup": "Low",
         "marker": {
          "color": "blue",
          "symbol": "circle"
         },
         "mode": "markers",
         "name": "Low",
         "orientation": "v",
         "showlegend": true,
         "type": "scatter",
         "x": {
          "bdata": "AwAEAAcACAAJAAwAEAAUABUAGAAiACQAJQAsADEAMwA0ADYANwA6ADsARABSAFQAVgBXAFgAWQBaAFsAXABfAGUAawBzAHQAeAB7AIQAhgCJAI0AjwCRAJIAnQCgAKEAowClAKoAsAC0ALYAvwDQANcA2QDaAOIA5QDmAO0A8QD2APsAAQEDAQQBBwEMAQ0BDgEPARcBHwEhASMBJQEoAS0BLwExATUBOwFAAUMBSQFKAU0BTgFQAVIBVwFdAWEBYgFnAWgBcAFzAXgBeQGBAYQBhwGJAY8BkwGUAZUBlgGYAZsBnwGhAa0BrgGwAbIBuwG+AcIByAHLAcwB1QHXAdsB3gHgAeIB5QHnAfEB8wH0AQICAwIEAgYCBwIIAgoCDwIQAhICFAIXAhkCGwIqAjECMgI1AjcCOgI9Aj4CSAJMAk4CUQJXAlgCWQJaAlsCXQJfAmECYgJnAmoCdQJ2AngCfgKQApMCpgKnAq4CtQK2ArgCvALBAssCzgLTAtQC1QLWAtcC2ALbAuAC5ALlAuYC6QLsAu4C7wLyAvUC+gICAwMDBAMHAw0DFQMZAygDKQMqAzADMgM5AzoDOwM8A0ADRgNNA08DUgNUA1YDXQNeA18DYQNmA2kDbgN1A3kDfAOAA4YDigOLA44DjwOVA5YDlwObA50DowOkA6YDrQOvA7MDtgO4A7oDwQPDA8cDywPRA9ID0wPVA9cD3QPjA+YD5wM=",
          "dtype": "i2"
         },
         "xaxis": "x",
         "y": {
          "bdata": "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",
          "dtype": "f8"
         },
         "yaxis": "y"
        },
        {
         "hovertemplate": "Segment=Very Low<br>index=%{x}<br>Credit Score=%{y}<extra></extra>",
         "legendgroup": "Very Low",
         "marker": {
          "color": "yellow",
          "symbol": "circle"
         },
         "mode": "markers",
         "name": "Very Low",
         "orientation": "v",
         "showlegend": true,
         "type": "scatter",
         "x": {
          "bdata": "CgALABIAGwAcAB4AHwAhAC4ALwAyADUAOAA5AD0AQQBMAE0ATgBVAF0AYABiAGMAaQBtAG4AcABxAHIAegB+AIAAiACOAJcAmACeAKYAqACsAK4AswC4ALsAvADCAMQAygDMAM0A0gDWANgA2wDeAOMA6ADuAO8A9QD4APwA/gAAAQIBBQEKAQsBEAERARMBFAEaARsBIgEpASsBPgE/AUQBRwFRAVMBWAFbAVwBaQFuAW8BcQFyAXcBewF+AYABhQGGAZABmgGdAZ4BpgGoAakBqwGzAbQBtQG2AcABwQHEAcUBxgHHAckBzgHPAdEB2AHcAeYB7QHvAfYB+QH/AQACCQILAgwCDQITAhYCHAIdAh4CJgIuAj8CQgJGAkkCSgJQAlMCVQJlAm0CcAJxAnMCdAJ3AnoCewJ8AoUCigKNApIClgKaAp4CoQKiAqgCqgKvArMCwALCAsMCxQLGAsoCzALPAtAC2QLcAt0C4wLnAusC9gL3AvwC/wIFAwgDCQMKAw8DEAMbAx0DIAMlAysDLgMxAzQDOAM+A0MDRQNHA0wDUANRA1kDYANiA2MDZwNsA20DbwN0A3cDgQOEA4gDiQOMA5IDkwOcA58DoQOiA6cDqAOpA7IDtwO8A78DxAPFA8kDzQPOA88D1gPaA94D4QM=",
          "dtype": "i2"
         },
         "xaxis": "x",
         "y": {
          "bdata": "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",
          "dtype": "f8"
         },
         "yaxis": "y"
        },
        {
         "hovertemplate": "Segment=Good<br>index=%{x}<br>Credit Score=%{y}<extra></extra>",
         "legendgroup": "Good",
         "marker": {
          "color": "red",
          "symbol": "circle"
         },
         "mode": "markers",
         "name": "Good",
         "orientation": "v",
         "showlegend": true,
         "type": "scatter",
         "x": {
          "bdata": "DQAPABEAEwAWABcAGQAdACAAIwAmACcAKAAqACsALQA+AEIARQBGAEcAUABRAFMAXgBkAGYAagBvAHcAeQB8AH8AggCDAIUAigCLAJYAmwCfAKIApACnALEAtQC3ALkAugC9AL4AwQDDAMUAxgDHAMkAzgDPANEA0wDUAN8A4QDkAOcA6gDrAOwA8wD0AAYBCQESARUBGAEZAR0BJgEnATABMgEzATYBOAFBAUUBRgFLAU8BVgFaAWsBdgF9AYIBgwGIAYsBjAGNAZEBkgGcAaMBpQGnAa8BuAG5AboBvQHNAdIB2QHaAd8B4wHpAeoB8gH1AfcB/QH+AQUCGAIsAi0CLwI5AjsCPAJAAkECQwJEAkUCTwJUAl4CYwJoAmkCbwJ5AoECggKDAoQChgKHAogCiQKLAowCjgKPApEClAKXApgCmQKcAp8CoAKjAqQCpQKrAqwCrQKwArQCugK/AsQCxwLIAskCzQLeAt8C4gL4AvkCAAMLAwwDEQMSAxMDFgMYAxoDHAMeAx8DIwMkAy8DPQM/A0EDQgNEA0gDSQNLA1MDVQNkA2gDcQNyA3MDdgN4A3oDewN9A34DhwONA5ADlAOYA5oDoAOlA6oDrgOwA7kDuwO+A8ADwgPGA8gD0APUA9gD3APiA+QD",
          "dtype": "i2"
         },
         "xaxis": "x",
         "y": {
          "bdata": "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",
          "dtype": "f8"
         },
         "yaxis": "y"
        }
       ],
       "layout": {
        "legend": {
         "title": {
          "text": "Segment"
         },
         "tracegroupgap": 0
        },
        "margin": {
         "t": 60
        },
        "template": {
         "data": {
          "bar": [
           {
            "error_x": {
             "color": "#2a3f5f"
            },
            "error_y": {
             "color": "#2a3f5f"
            },
            "marker": {
             "line": {
              "color": "white",
              "width": 0.5
             },
             "pattern": {
              "fillmode": "overlay",
              "size": 10,
              "solidity": 0.2
             }
            },
            "type": "bar"
           }
          ],
          "barpolar": [
           {
            "marker": {
             "line": {
              "color": "white",
              "width": 0.5
             },
             "pattern": {
              "fillmode": "overlay",
              "size": 10,
              "solidity": 0.2
             }
            },
            "type": "barpolar"
           }
          ],
          "carpet": [
           {
            "aaxis": {
             "endlinecolor": "#2a3f5f",
             "gridcolor": "#C8D4E3",
             "linecolor": "#C8D4E3",
             "minorgridcolor": "#C8D4E3",
             "startlinecolor": "#2a3f5f"
            },
            "baxis": {
             "endlinecolor": "#2a3f5f",
             "gridcolor": "#C8D4E3",
             "linecolor": "#C8D4E3",
             "minorgridcolor": "#C8D4E3",
             "startlinecolor": "#2a3f5f"
            },
            "type": "carpet"
           }
          ],
          "choropleth": [
           {
            "colorbar": {
             "outlinewidth": 0,
             "ticks": ""
            },
            "type": "choropleth"
           }
          ],
          "contour": [
           {
            "colorbar": {
             "outlinewidth": 0,
             "ticks": ""
            },
            "colorscale": [
             [
              0,
              "#0d0887"
             ],
             [
              0.1111111111111111,
              "#46039f"
             ],
             [
              0.2222222222222222,
              "#7201a8"
             ],
             [
              0.3333333333333333,
              "#9c179e"
             ],
             [
              0.4444444444444444,
              "#bd3786"
             ],
             [
              0.5555555555555556,
              "#d8576b"
             ],
             [
              0.6666666666666666,
              "#ed7953"
             ],
             [
              0.7777777777777778,
              "#fb9f3a"
             ],
             [
              0.8888888888888888,
              "#fdca26"
             ],
             [
              1,
              "#f0f921"
             ]
            ],
            "type": "contour"
           }
          ],
          "contourcarpet": [
           {
            "colorbar": {
             "outlinewidth": 0,
             "ticks": ""
            },
            "type": "contourcarpet"
           }
          ],
          "heatmap": [
           {
            "colorbar": {
             "outlinewidth": 0,
             "ticks": ""
            },
            "colorscale": [
             [
              0,
              "#0d0887"
             ],
             [
              0.1111111111111111,
              "#46039f"
             ],
             [
              0.2222222222222222,
              "#7201a8"
             ],
             [
              0.3333333333333333,
              "#9c179e"
             ],
             [
              0.4444444444444444,
              "#bd3786"
             ],
             [
              0.5555555555555556,
              "#d8576b"
             ],
             [
              0.6666666666666666,
              "#ed7953"
             ],
             [
              0.7777777777777778,
              "#fb9f3a"
             ],
             [
              0.8888888888888888,
              "#fdca26"
             ],
             [
              1,
              "#f0f921"
             ]
            ],
            "type": "heatmap"
           }
          ],
          "histogram": [
           {
            "marker": {
             "pattern": {
              "fillmode": "overlay",
              "size": 10,
              "solidity": 0.2
             }
            },
            "type": "histogram"
           }
          ],
          "histogram2d": [
           {
            "colorbar": {
             "outlinewidth": 0,
             "ticks": ""
            },
            "colorscale": [
             [
              0,
              "#0d0887"
             ],
             [
              0.1111111111111111,
              "#46039f"
             ],
             [
              0.2222222222222222,
              "#7201a8"
             ],
             [
              0.3333333333333333,
              "#9c179e"
             ],
             [
              0.4444444444444444,
              "#bd3786"
             ],
             [
              0.5555555555555556,
              "#d8576b"
             ],
             [
              0.6666666666666666,
              "#ed7953"
             ],
             [
              0.7777777777777778,
              "#fb9f3a"
             ],
             [
              0.8888888888888888,
              "#fdca26"
             ],
             [
              1,
              "#f0f921"
             ]
            ],
            "type": "histogram2d"
           }
          ],
          "histogram2dcontour": [
           {
            "colorbar": {
             "outlinewidth": 0,
             "ticks": ""
            },
            "colorscale": [
             [
              0,
              "#0d0887"
             ],
             [
              0.1111111111111111,
              "#46039f"
             ],
             [
              0.2222222222222222,
              "#7201a8"
             ],
             [
              0.3333333333333333,
              "#9c179e"
             ],
             [
              0.4444444444444444,
              "#bd3786"
             ],
             [
              0.5555555555555556,
              "#d8576b"
             ],
             [
              0.6666666666666666,
              "#ed7953"
             ],
             [
              0.7777777777777778,
              "#fb9f3a"
             ],
             [
              0.8888888888888888,
              "#fdca26"
             ],
             [
              1,
              "#f0f921"
             ]
            ],
            "type": "histogram2dcontour"
           }
          ],
          "mesh3d": [
           {
            "colorbar": {
             "outlinewidth": 0,
             "ticks": ""
            },
            "type": "mesh3d"
           }
          ],
          "parcoords": [
           {
            "line": {
             "colorbar": {
              "outlinewidth": 0,
              "ticks": ""
             }
            },
            "type": "parcoords"
           }
          ],
          "pie": [
           {
            "automargin": true,
            "type": "pie"
           }
          ],
          "scatter": [
           {
            "fillpattern": {
             "fillmode": "overlay",
             "size": 10,
             "solidity": 0.2
            },
            "type": "scatter"
           }
          ],
          "scatter3d": [
           {
            "line": {
             "colorbar": {
              "outlinewidth": 0,
              "ticks": ""
             }
            },
            "marker": {
             "colorbar": {
              "outlinewidth": 0,
              "ticks": ""
             }
            },
            "type": "scatter3d"
           }
          ],
          "scattercarpet": [
           {
            "marker": {
             "colorbar": {
              "outlinewidth": 0,
              "ticks": ""
             }
            },
            "type": "scattercarpet"
           }
          ],
          "scattergeo": [
           {
            "marker": {
             "colorbar": {
              "outlinewidth": 0,
              "ticks": ""
             }
            },
            "type": "scattergeo"
           }
          ],
          "scattergl": [
           {
            "marker": {
             "colorbar": {
              "outlinewidth": 0,
              "ticks": ""
             }
            },
            "type": "scattergl"
           }
          ],
          "scattermap": [
           {
            "marker": {
             "colorbar": {
              "outlinewidth": 0,
              "ticks": ""
             }
            },
            "type": "scattermap"
           }
          ],
          "scattermapbox": [
           {
            "marker": {
             "colorbar": {
              "outlinewidth": 0,
              "ticks": ""
             }
            },
            "type": "scattermapbox"
           }
          ],
          "scatterpolar": [
           {
            "marker": {
             "colorbar": {
              "outlinewidth": 0,
              "ticks": ""
             }
            },
            "type": "scatterpolar"
           }
          ],
          "scatterpolargl": [
           {
            "marker": {
             "colorbar": {
              "outlinewidth": 0,
              "ticks": ""
             }
            },
            "type": "scatterpolargl"
           }
          ],
          "scatterternary": [
           {
            "marker": {
             "colorbar": {
              "outlinewidth": 0,
              "ticks": ""
             }
            },
            "type": "scatterternary"
           }
          ],
          "surface": [
           {
            "colorbar": {
             "outlinewidth": 0,
             "ticks": ""
            },
            "colorscale": [
             [
              0,
              "#0d0887"
             ],
             [
              0.1111111111111111,
              "#46039f"
             ],
             [
              0.2222222222222222,
              "#7201a8"
             ],
             [
              0.3333333333333333,
              "#9c179e"
             ],
             [
              0.4444444444444444,
              "#bd3786"
             ],
             [
              0.5555555555555556,
              "#d8576b"
             ],
             [
              0.6666666666666666,
              "#ed7953"
             ],
             [
              0.7777777777777778,
              "#fb9f3a"
             ],
             [
              0.8888888888888888,
              "#fdca26"
             ],
             [
              1,
              "#f0f921"
             ]
            ],
            "type": "surface"
           }
          ],
          "table": [
           {
            "cells": {
             "fill": {
              "color": "#EBF0F8"
             },
             "line": {
              "color": "white"
             }
            },
            "header": {
             "fill": {
              "color": "#C8D4E3"
             },
             "line": {
              "color": "white"
             }
            },
            "type": "table"
           }
          ]
         },
         "layout": {
          "annotationdefaults": {
           "arrowcolor": "#2a3f5f",
           "arrowhead": 0,
           "arrowwidth": 1
          },
          "autotypenumbers": "strict",
          "coloraxis": {
           "colorbar": {
            "outlinewidth": 0,
            "ticks": ""
           }
          },
          "colorscale": {
           "diverging": [
            [
             0,
             "#8e0152"
            ],
            [
             0.1,
             "#c51b7d"
            ],
            [
             0.2,
             "#de77ae"
            ],
            [
             0.3,
             "#f1b6da"
            ],
            [
             0.4,
             "#fde0ef"
            ],
            [
             0.5,
             "#f7f7f7"
            ],
            [
             0.6,
             "#e6f5d0"
            ],
            [
             0.7,
             "#b8e186"
            ],
            [
             0.8,
             "#7fbc41"
            ],
            [
             0.9,
             "#4d9221"
            ],
            [
             1,
             "#276419"
            ]
           ],
           "sequential": [
            [
             0,
             "#0d0887"
            ],
            [
             0.1111111111111111,
             "#46039f"
            ],
            [
             0.2222222222222222,
             "#7201a8"
            ],
            [
             0.3333333333333333,
             "#9c179e"
            ],
            [
             0.4444444444444444,
             "#bd3786"
            ],
            [
             0.5555555555555556,
             "#d8576b"
            ],
            [
             0.6666666666666666,
             "#ed7953"
            ],
            [
             0.7777777777777778,
             "#fb9f3a"
            ],
            [
             0.8888888888888888,
             "#fdca26"
            ],
            [
             1,
             "#f0f921"
            ]
           ],
           "sequentialminus": [
            [
             0,
             "#0d0887"
            ],
            [
             0.1111111111111111,
             "#46039f"
            ],
            [
             0.2222222222222222,
             "#7201a8"
            ],
            [
             0.3333333333333333,
             "#9c179e"
            ],
            [
             0.4444444444444444,
             "#bd3786"
            ],
            [
             0.5555555555555556,
             "#d8576b"
            ],
            [
             0.6666666666666666,
             "#ed7953"
            ],
            [
             0.7777777777777778,
             "#fb9f3a"
            ],
            [
             0.8888888888888888,
             "#fdca26"
            ],
            [
             1,
             "#f0f921"
            ]
           ]
          },
          "colorway": [
           "#636efa",
           "#EF553B",
           "#00cc96",
           "#ab63fa",
           "#FFA15A",
           "#19d3f3",
           "#FF6692",
           "#B6E880",
           "#FF97FF",
           "#FECB52"
          ],
          "font": {
           "color": "#2a3f5f"
          },
          "geo": {
           "bgcolor": "white",
           "lakecolor": "white",
           "landcolor": "white",
           "showlakes": true,
           "showland": true,
           "subunitcolor": "#C8D4E3"
          },
          "hoverlabel": {
           "align": "left"
          },
          "hovermode": "closest",
          "mapbox": {
           "style": "light"
          },
          "paper_bgcolor": "white",
          "plot_bgcolor": "white",
          "polar": {
           "angularaxis": {
            "gridcolor": "#EBF0F8",
            "linecolor": "#EBF0F8",
            "ticks": ""
           },
           "bgcolor": "white",
           "radialaxis": {
            "gridcolor": "#EBF0F8",
            "linecolor": "#EBF0F8",
            "ticks": ""
           }
          },
          "scene": {
           "xaxis": {
            "backgroundcolor": "white",
            "gridcolor": "#DFE8F3",
            "gridwidth": 2,
            "linecolor": "#EBF0F8",
            "showbackground": true,
            "ticks": "",
            "zerolinecolor": "#EBF0F8"
           },
           "yaxis": {
            "backgroundcolor": "white",
            "gridcolor": "#DFE8F3",
            "gridwidth": 2,
            "linecolor": "#EBF0F8",
            "showbackground": true,
            "ticks": "",
            "zerolinecolor": "#EBF0F8"
           },
           "zaxis": {
            "backgroundcolor": "white",
            "gridcolor": "#DFE8F3",
            "gridwidth": 2,
            "linecolor": "#EBF0F8",
            "showbackground": true,
            "ticks": "",
            "zerolinecolor": "#EBF0F8"
           }
          },
          "shapedefaults": {
           "line": {
            "color": "#2a3f5f"
           }
          },
          "ternary": {
           "aaxis": {
            "gridcolor": "#DFE8F3",
            "linecolor": "#A2B1C6",
            "ticks": ""
           },
           "baxis": {
            "gridcolor": "#DFE8F3",
            "linecolor": "#A2B1C6",
            "ticks": ""
           },
           "bgcolor": "white",
           "caxis": {
            "gridcolor": "#DFE8F3",
            "linecolor": "#A2B1C6",
            "ticks": ""
           }
          },
          "title": {
           "x": 0.05
          },
          "xaxis": {
           "automargin": true,
           "gridcolor": "#EBF0F8",
           "linecolor": "#EBF0F8",
           "ticks": "",
           "title": {
            "standoff": 15
           },
           "zerolinecolor": "#EBF0F8",
           "zerolinewidth": 2
          },
          "yaxis": {
           "automargin": true,
           "gridcolor": "#EBF0F8",
           "linecolor": "#EBF0F8",
           "ticks": "",
           "title": {
            "standoff": 15
           },
           "zerolinecolor": "#EBF0F8",
           "zerolinewidth": 2
          }
         }
        },
        "title": {
         "text": "Customer Segmentation based on Credit Scores"
        },
        "xaxis": {
         "anchor": "y",
         "domain": [
          0,
          1
         ],
         "title": {
          "text": "Customer Index"
         }
        },
        "yaxis": {
         "anchor": "x",
         "domain": [
          0,
          1
         ],
         "title": {
          "text": "Credit Score"
         }
        }
       }
      },
      "image/png": "[encoded data removed]"
     },
     "metadata": {},
     "output_type": "display_data"
    }
   ],
   "source": [
    "cred[\"Segment\"] = cred[\"Segment\"].map({2:\"Very Low\",0:\"Low\",1:\"Good\", 3: \"Excellent\"})\n",
    "\n",
    "#Convert the Segment columns  to category data type\n",
    "cred[\"Segment\"] = cred[\"Segment\"].astype(\"category\")\n",
    "\n",
    "#Visualize the Segment using plotly\n",
    "fig_segment = px.scatter(cred, x = cred.index , y = \"Credit Score\", color= \"Segment\",\n",
    "                        color_discrete_sequence= [\"green\", \"blue\" , \"yellow\" , \"red\"])\n",
    "\n",
    "fig_segment.update_layout(\n",
    "                    xaxis_title = \"Customer Index\",\n",
    "                    yaxis_title = \"Credit Score\",\n",
    "                    title = \"Customer Segmentation based on Credit Scores\"\n",
    "                        )\n",
    "\n",
    "fig_segment.show()"
   ]
  },
  {
   "cell_type": "markdown",
   "id": "a0557fa9-a1ee-4bb3-9c44-ff75b3058824",
   "metadata": {},
   "source": [
    "So this is how you can perform credit scoring and segmentation using Python."
   ]
  },
  {
   "cell_type": "markdown",
   "id": "aa5359ff-4a20-42fa-a458-f336d748a5eb",
   "metadata": {},
   "source": [
    "## Summary"
   ]
  },
  {
   "cell_type": "markdown",
   "id": "cae1fbfd-5192-4c6e-bacd-6da8c34fe289",
   "metadata": {},
   "source": [
    "\n",
    "Credit scoring and segmentation refer to the process of evaluating the creditworthiness of individuals or businesses and dividing them into distinct groups based on their credit profiles. It aims to assess the likelihood of borrowers repaying their debts and helps financial institutions make informed decisions regarding lending and managing credit risk. I hope you liked this article on Credit Scoring and Segmentation using Python. Feel free to ask valuable questions in the comments section below"
   ]
  },
  {
   "cell_type": "code",
   "execution_count": null,
   "id": "140eef07-038c-4584-887e-c5bc3ca577c8",
   "metadata": {},
   "outputs": [],
   "source": []
  }
 ],
 "metadata": {
  "kernelspec": {
   "display_name": "Python 3 (ipykernel)",
   "language": "python",
   "name": "python3"
  },
  "language_info": {
   "codemirror_mode": {
    "name": "ipython",
    "version": 3
   },
   "file_extension": ".py",
   "mimetype": "text/x-python",
   "name": "python",
   "nbconvert_exporter": "python",
   "pygments_lexer": "ipython3",
   "version": "3.10.18"
  }
 },
 "nbformat": 4,
 "nbformat_minor": 5
}
